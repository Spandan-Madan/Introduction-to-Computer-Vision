{
 "cells": [
  {
   "cell_type": "code",
   "execution_count": 27,
   "metadata": {},
   "outputs": [],
   "source": [
    "import os\n",
    "import cv2\n",
    "import matplotlib.pyplot as plt\n",
    "from PIL import Image\n",
    "import numpy as np\n",
    "import sys\n",
    "sys.path.append('../scripts/')\n",
    "import cv2\n",
    "import matplotlib.patches as patches\n",
    "import math\n",
    "import scipy\n",
    "from scipy.ndimage.morphology import binary_closing\n",
    "from scipy import ndimage\n",
    "from IPython.display import SVG \n",
    "from IPython.display import Pretty \n",
    "import pprint\n",
    "import cv2\n",
    "import numpy as np\n",
    "import matplotlib.pyplot as plt\n",
    "from sklearn.cluster import KMeans"
   ]
  },
  {
   "cell_type": "code",
   "execution_count": 28,
   "metadata": {},
   "outputs": [],
   "source": [
    "from icon_helper_functions import *"
   ]
  },
  {
   "cell_type": "code",
   "execution_count": 65,
   "metadata": {},
   "outputs": [
    {
     "data": {
      "image/png": "[encoded data removed]",
      "text/plain": [
       "<matplotlib.figure.Figure at 0x1c256e2860>"
      ]
     },
     "metadata": {},
     "output_type": "display_data"
    }
   ],
   "source": [
    "# impath = '../data/Icons_previous/cor'\n",
    "# impath = '../data/Icons_clean/corkscrew/corkscrew_106698.jpg'\n",
    "# impath = '../data/Icons_previous/crescent_wrench/crescent%20wrench_449238.jpg'\n",
    "# CHECK: impath = '../data/Icons_clean/bricklayer_hammer/bricklayer%20hammer_1117273.jpg'\n",
    "impath = '../outputs/actual_images/newImage.png'\n",
    "im = PIL.Image.open(impath).resize((200,200))\n",
    "data = np.array(im)\n",
    "dat_ = data[:,:]\n",
    "dat = util.invert(dat_)\n",
    "plt.imshow(dat)\n",
    "plt.show()\n",
    "\n",
    "\n",
    "\n",
    "\n",
    "# imcv = cv2.imread(impath,-1)[:,:,3]\n",
    "# show(im,'original image')"
   ]
  },
  {
   "cell_type": "code",
   "execution_count": 66,
   "metadata": {},
   "outputs": [
    {
     "data": {
      "text/plain": [
       "(200, 200)"
      ]
     },
     "execution_count": 66,
     "metadata": {},
     "output_type": "execute_result"
    }
   ],
   "source": [
    "im.size"
   ]
  },
  {
   "cell_type": "code",
   "execution_count": 67,
   "metadata": {},
   "outputs": [],
   "source": [
    "tool_name = impath.split('/')[3]\n",
    "factor_dict = {'bricklayer_hammer':0.001,'corkscrew':0.005,'garden_spade':0.02,'claw_hammer':0.02,'crescent_wrench':0.005}"
   ]
  },
  {
   "cell_type": "code",
   "execution_count": 68,
   "metadata": {},
   "outputs": [],
   "source": [
    "try:\n",
    "    FACTOR = factor_dict[tool_name]\n",
    "except:\n",
    "    FACTOR = 0.005"
   ]
  },
  {
   "cell_type": "markdown",
   "metadata": {},
   "source": [
    "# Invoke helper function to split into parts based on geometry"
   ]
  },
  {
   "cell_type": "code",
   "execution_count": 69,
   "metadata": {},
   "outputs": [],
   "source": [
    "ims = image_splitter(impath,filled=False,actual=True)\n",
    "\n",
    "# ims = image_splitter(impath,filled=True)"
   ]
  },
  {
   "cell_type": "code",
   "execution_count": 72,
   "metadata": {},
   "outputs": [],
   "source": [
    "PARTS = (ims[0],ims[1])"
   ]
  },
  {
   "cell_type": "code",
   "execution_count": 73,
   "metadata": {},
   "outputs": [
    {
     "data": {
      "image/png": "[encoded data removed]",
      "text/plain": [
       "<matplotlib.figure.Figure at 0x1c2bfb0470>"
      ]
     },
     "metadata": {},
     "output_type": "display_data"
    },
    {
     "data": {
      "image/png": "[encoded data removed]",
      "text/plain": [
       "<matplotlib.figure.Figure at 0x1c2559ef60>"
      ]
     },
     "metadata": {},
     "output_type": "display_data"
    }
   ],
   "source": [
    "for i in range(len(PARTS)):\n",
    "    show(PARTS[i],'Part %s'%str(i+1))"
   ]
  },
  {
   "cell_type": "code",
   "execution_count": 74,
   "metadata": {},
   "outputs": [],
   "source": [
    "def plot_primitive(im_part,title,FACTOR):\n",
    "    open_cv_image = np.array(im_part) \n",
    "    open_cv_image = open_cv_image[:, :, ::-1].copy() \n",
    "    edged = cv2.Canny(open_cv_image, 30, 200)\n",
    "    _, contours, hierarchy = cv2.findContours(edged, cv2.RETR_LIST, cv2.CHAIN_APPROX_SIMPLE)\n",
    "    rects = [cv2.boundingRect(cnt) for cnt in contours]\n",
    "    rects = sorted(rects,key=lambda  x:x[1],reverse=True)\n",
    "\n",
    "    shapes = []\n",
    "    apps = []\n",
    "#     print(len(contours))\n",
    "    if len(contours) < 1:\n",
    "        print('No contours')\n",
    "        return -1\n",
    "    for cnt in contours:\n",
    "        approx = cv2.approxPolyDP(cnt,FACTOR*cv2.arcLength(cnt,True),True)\n",
    "        if len(approx)==3:\n",
    "#             print(approx)\n",
    "#             print('triangle')\n",
    "            shapes.append('triange')\n",
    "            apps.append(approx)\n",
    "        elif len(approx)==4:\n",
    "#             print(approx)\n",
    "#             print('4 sided')\n",
    "            shapes.append('4 sided')\n",
    "            apps.append(approx)\n",
    "        else:\n",
    "#             print(len(approx))\n",
    "            shapes.append('none')\n",
    "            apps.append(approx)\n",
    "#             print('none')\n",
    "    \n",
    "    max_area = 0\n",
    "    for ct in range(len(rects)):\n",
    "        rect = rects[ct]\n",
    "        area = rect[2]*rect[3]\n",
    "        if area > max_area:\n",
    "            max_area = area\n",
    "            pos = ct\n",
    "#     print(pos)\n",
    "#     print(len(apps))\n",
    "#     print(apps[pos])\n",
    "    dummy_img = open_cv_image*0\n",
    "    clean_plot = cv2.drawContours(dummy_img,apps,pos,(0,255,0),4)\n",
    "    print(shapes[pos])\n",
    "    plt.imshow(clean_plot)\n",
    "    plt.axis('off')\n",
    "    plt.title(title)\n",
    "    plt.show()\n",
    "    return apps,pos,rects,hierarchy"
   ]
  },
  {
   "cell_type": "code",
   "execution_count": 75,
   "metadata": {},
   "outputs": [
    {
     "data": {
      "image/png": "[encoded data removed]",
      "text/plain": [
       "<matplotlib.figure.Figure at 0x1c29bdc940>"
      ]
     },
     "metadata": {},
     "output_type": "display_data"
    },
    {
     "name": "stdout",
     "output_type": "stream",
     "text": [
      "none\n"
     ]
    },
    {
     "data": {
      "image/png": "[encoded data removed]",
      "text/plain": [
       "<matplotlib.figure.Figure at 0x1c25588908>"
      ]
     },
     "metadata": {},
     "output_type": "display_data"
    },
    {
     "data": {
      "image/png": "[encoded data removed]",
      "text/plain": [
       "<matplotlib.figure.Figure at 0x1c2c0b29e8>"
      ]
     },
     "metadata": {},
     "output_type": "display_data"
    },
    {
     "name": "stdout",
     "output_type": "stream",
     "text": [
      "none\n"
     ]
    },
    {
     "data": {
      "image/png": "[encoded data removed]",
      "text/plain": [
       "<matplotlib.figure.Figure at 0x1c2a170d68>"
      ]
     },
     "metadata": {},
     "output_type": "display_data"
    }
   ],
   "source": [
    "best_shapes = []\n",
    "svg_start = '<svg width=\"200\" height=\"200\" xmlns=\"http://www.w3.org/2000/svg\" xmlns:xlink=\"http://www.w3.org/1999/xlink\">'\n",
    "svg_end = '</svg>'\n",
    "\n",
    "for i in range(len(PARTS)):\n",
    "    \n",
    "    show(PARTS[i],'Part %s'%str(i+1))\n",
    "    all_shapes,pos,rects,hierarchy = plot_primitive(PARTS[i],'Approximation for part %s'%str(i+1),FACTOR)\n",
    "    best_shape = all_shapes[pos]\n",
    "    best_shapes.append(best_shape)\n",
    "    \n",
    "    coordinates = ''\n",
    "    ct = 0\n",
    "    for point in best_shape:\n",
    "        if ct > 0:\n",
    "            coordinates += ' '\n",
    "        x,y = point[0][0],point[0][1]\n",
    "        coordinates += '%s,%s'%(x,y)\n",
    "        ct += 1\n",
    "    element = '<polygon points=\"%s\" style=\"stroke:black; fill: white\"/>'%coordinates\n",
    "    \n",
    "    if i == 0:\n",
    "        elements = element\n",
    "    else:\n",
    "        elements += '\\n' + element\n",
    "    svg_parts = svg_start + '\\n' + element + svg_end\n",
    "    \n",
    "    f = open('Part_%s.svg'%i,'w')\n",
    "    print(svg_parts,file = f)\n",
    "    f.close()\n",
    "svg_content = svg_start + '\\n' + elements + svg_end\n",
    "f = open('Combined.svg','w')\n",
    "print(svg_content,file = f)\n",
    "f.close()"
   ]
  },
  {
   "cell_type": "code",
   "execution_count": 76,
   "metadata": {},
   "outputs": [
    {
     "name": "stdout",
     "output_type": "stream",
     "text": [
      "<svg width=\"200\" height=\"200\" xmlns=\"http://www.w3.org/2000/svg\" xmlns:xlink=\"http://www.w3.org/1999/xlink\">\n",
      "<polygon points=\"81,21 88,16 127,16 136,19 162,42 170,59 176,59 188,71 187,80 167,99 155,99 146,90 146,82 137,79 116,101 91,78 110,57 110,47 100,40 86,38 81,32\" style=\"stroke:black; fill: white\"/></svg>\n",
      "\n"
     ]
    },
    {
     "data": {
      "image/svg+xml": [
       "<svg height=\"200\" width=\"200\" xmlns=\"http://www.w3.org/2000/svg\" xmlns:xlink=\"http://www.w3.org/1999/xlink\">\n",
       "<polygon points=\"81,21 88,16 127,16 136,19 162,42 170,59 176,59 188,71 187,80 167,99 155,99 146,90 146,82 137,79 116,101 91,78 110,57 110,47 100,40 86,38 81,32\" style=\"stroke:black; fill: white\"/></svg>"
      ],
      "text/plain": [
       "<IPython.core.display.SVG object>"
      ]
     },
     "execution_count": 76,
     "metadata": {},
     "output_type": "execute_result"
    }
   ],
   "source": [
    "f=open('Part_1.svg')\n",
    "c = f.readlines()\n",
    "print(''.join(c))\n",
    "f.close()\n",
    "SVG(filename='Part_1.svg')"
   ]
  },
  {
   "cell_type": "code",
   "execution_count": 77,
   "metadata": {},
   "outputs": [
    {
     "name": "stdout",
     "output_type": "stream",
     "text": [
      "<svg width=\"200\" height=\"200\" xmlns=\"http://www.w3.org/2000/svg\" xmlns:xlink=\"http://www.w3.org/1999/xlink\">\n",
      "<polygon points=\"116,102 87,142 63,168 51,176 40,176 36,174 24,162 24,154 32,138 56,109 90,78\" style=\"stroke:black; fill: white\"/></svg>\n",
      "\n"
     ]
    },
    {
     "data": {
      "image/svg+xml": [
       "<svg height=\"200\" width=\"200\" xmlns=\"http://www.w3.org/2000/svg\" xmlns:xlink=\"http://www.w3.org/1999/xlink\">\n",
       "<polygon points=\"116,102 87,142 63,168 51,176 40,176 36,174 24,162 24,154 32,138 56,109 90,78\" style=\"stroke:black; fill: white\"/></svg>"
      ],
      "text/plain": [
       "<IPython.core.display.SVG object>"
      ]
     },
     "execution_count": 77,
     "metadata": {},
     "output_type": "execute_result"
    }
   ],
   "source": [
    "f=open('Part_0.svg')\n",
    "c = f.readlines()\n",
    "print(''.join(c))\n",
    "f.close()\n",
    "SVG(filename='Part_0.svg')"
   ]
  },
  {
   "cell_type": "code",
   "execution_count": 78,
   "metadata": {},
   "outputs": [
    {
     "name": "stdout",
     "output_type": "stream",
     "text": [
      "<svg width=\"200\" height=\"200\" xmlns=\"http://www.w3.org/2000/svg\" xmlns:xlink=\"http://www.w3.org/1999/xlink\">\n",
      "<polygon points=\"116,102 87,142 63,168 51,176 40,176 36,174 24,162 24,154 32,138 56,109 90,78\" style=\"stroke:black; fill: white\"/>\n",
      "<polygon points=\"81,21 88,16 127,16 136,19 162,42 170,59 176,59 188,71 187,80 167,99 155,99 146,90 146,82 137,79 116,101 91,78 110,57 110,47 100,40 86,38 81,32\" style=\"stroke:black; fill: white\"/></svg>\n",
      "\n"
     ]
    },
    {
     "data": {
      "image/svg+xml": [
       "<svg height=\"200\" width=\"200\" xmlns=\"http://www.w3.org/2000/svg\" xmlns:xlink=\"http://www.w3.org/1999/xlink\">\n",
       "<polygon points=\"116,102 87,142 63,168 51,176 40,176 36,174 24,162 24,154 32,138 56,109 90,78\" style=\"stroke:black; fill: white\"/>\n",
       "<polygon points=\"81,21 88,16 127,16 136,19 162,42 170,59 176,59 188,71 187,80 167,99 155,99 146,90 146,82 137,79 116,101 91,78 110,57 110,47 100,40 86,38 81,32\" style=\"stroke:black; fill: white\"/></svg>"
      ],
      "text/plain": [
       "<IPython.core.display.SVG object>"
      ]
     },
     "execution_count": 78,
     "metadata": {},
     "output_type": "execute_result"
    }
   ],
   "source": [
    "f=open('Combined.svg')\n",
    "c = f.readlines()\n",
    "print(''.join(c))\n",
    "f.close()\n",
    "SVG(filename='Combined.svg')"
   ]
  },
  {
   "cell_type": "code",
   "execution_count": 79,
   "metadata": {},
   "outputs": [],
   "source": [
    "# show(im,'original image')"
   ]
  },
  {
   "cell_type": "markdown",
   "metadata": {},
   "source": [
    "# Adding texture to our SVGs"
   ]
  },
  {
   "cell_type": "code",
   "execution_count": 80,
   "metadata": {},
   "outputs": [],
   "source": [
    "# texture_impath = '../data/Flat_icon/hammer/139273.png'\n",
    "texture_impath = '../data/Flat_icon/hammer/222586.png'"
   ]
  },
  {
   "cell_type": "code",
   "execution_count": 81,
   "metadata": {},
   "outputs": [
    {
     "data": {
      "image/png": "[encoded data removed]",
      "text/plain": [
       "<matplotlib.figure.Figure at 0x1c29bc2b70>"
      ]
     },
     "metadata": {},
     "output_type": "display_data"
    }
   ],
   "source": [
    "show(texture_impath)"
   ]
  },
  {
   "cell_type": "code",
   "execution_count": 82,
   "metadata": {},
   "outputs": [],
   "source": [
    "# im = Image.open(impath)\n",
    "texture_im = Image.open(texture_impath).resize((200,200))\n",
    "imcv = pil_to_cv(texture_im)\n",
    "\n",
    "parts = image_splitter(texture_im)"
   ]
  },
  {
   "cell_type": "code",
   "execution_count": 83,
   "metadata": {},
   "outputs": [
    {
     "data": {
      "image/png": "[encoded data removed]",
      "text/plain": [
       "<matplotlib.figure.Figure at 0x1c2a67acc0>"
      ]
     },
     "metadata": {},
     "output_type": "display_data"
    },
    {
     "data": {
      "image/png": "[encoded data removed]",
      "text/plain": [
       "<matplotlib.figure.Figure at 0x1c2c6a3cc0>"
      ]
     },
     "metadata": {},
     "output_type": "display_data"
    },
    {
     "data": {
      "image/png": "[encoded data removed]",
      "text/plain": [
       "<matplotlib.figure.Figure at 0x1c2c68a198>"
      ]
     },
     "metadata": {},
     "output_type": "display_data"
    },
    {
     "data": {
      "image/png": "[encoded data removed]",
      "text/plain": [
       "<matplotlib.figure.Figure at 0x1c2a0e0390>"
      ]
     },
     "metadata": {},
     "output_type": "display_data"
    }
   ],
   "source": [
    "part_colors = []\n",
    "for part in parts[:2]:\n",
    "    mask = np.array(part)[:,:,2]\n",
    "    mask[mask>0] = 255\n",
    "\n",
    "    res = cv2.bitwise_and(imcv,imcv,mask = mask)\n",
    "\n",
    "    plt.imshow(res)\n",
    "    plt.title('masked img')\n",
    "    plt.axis('off')\n",
    "    plt.show()\n",
    "\n",
    "    hist,color,bar = dominant_colors(texture_impath,mask)\n",
    "    best_color = color[np.argmax(np.asarray(hist))]\n",
    "    part_colors.append(best_color)\n",
    "    plt.imshow(bar)\n",
    "    plt.axis('off')\n",
    "    plt.title('top colors for part')\n",
    "    plt.show()"
   ]
  },
  {
   "cell_type": "code",
   "execution_count": 84,
   "metadata": {},
   "outputs": [
    {
     "data": {
      "text/plain": [
       "[array([192.99041322, 124.07834711,  62.17123967]),\n",
       " array([163.34575626, 170.18117519, 175.03944505])]"
      ]
     },
     "execution_count": 84,
     "metadata": {},
     "output_type": "execute_result"
    }
   ],
   "source": [
    "part_colors"
   ]
  },
  {
   "cell_type": "code",
   "execution_count": 85,
   "metadata": {},
   "outputs": [],
   "source": [
    "if tool_name == 'corkscrew':\n",
    "    part_colors.reverse()"
   ]
  },
  {
   "cell_type": "code",
   "execution_count": 86,
   "metadata": {},
   "outputs": [],
   "source": [
    "f=open('Combined.svg','r')\n",
    "content = f.readlines()\n",
    "f.close()"
   ]
  },
  {
   "cell_type": "code",
   "execution_count": 87,
   "metadata": {},
   "outputs": [],
   "source": [
    "f = open('Combined_colored.svg','w')\n",
    "ct = 0\n",
    "for c in content:\n",
    "    c = c.rstrip()\n",
    "    if c.startswith('<polygon'):\n",
    "        R,G,B = part_colors[ct]\n",
    "        color_string = 'rgb(%s,%s,%s)'%(int(R),int(G),int(B))\n",
    "        c = c.replace(\"white\",color_string)\n",
    "        print(c,file = f)\n",
    "        ct += 1\n",
    "    else:\n",
    "        print(c,file=f)\n",
    "f.close()   "
   ]
  },
  {
   "cell_type": "code",
   "execution_count": 88,
   "metadata": {},
   "outputs": [
    {
     "name": "stdout",
     "output_type": "stream",
     "text": [
      "<svg width=\"200\" height=\"200\" xmlns=\"http://www.w3.org/2000/svg\" xmlns:xlink=\"http://www.w3.org/1999/xlink\">\n",
      "<polygon points=\"116,102 87,142 63,168 51,176 40,176 36,174 24,162 24,154 32,138 56,109 90,78\" style=\"stroke:black; fill: rgb(192,124,62)\"/>\n",
      "<polygon points=\"81,21 88,16 127,16 136,19 162,42 170,59 176,59 188,71 187,80 167,99 155,99 146,90 146,82 137,79 116,101 91,78 110,57 110,47 100,40 86,38 81,32\" style=\"stroke:black; fill: rgb(163,170,175)\"/></svg>\n",
      "\n"
     ]
    },
    {
     "data": {
      "image/svg+xml": [
       "<svg height=\"200\" width=\"200\" xmlns=\"http://www.w3.org/2000/svg\" xmlns:xlink=\"http://www.w3.org/1999/xlink\">\n",
       "<polygon points=\"116,102 87,142 63,168 51,176 40,176 36,174 24,162 24,154 32,138 56,109 90,78\" style=\"stroke:black; fill: rgb(192,124,62)\"/>\n",
       "<polygon points=\"81,21 88,16 127,16 136,19 162,42 170,59 176,59 188,71 187,80 167,99 155,99 146,90 146,82 137,79 116,101 91,78 110,57 110,47 100,40 86,38 81,32\" style=\"stroke:black; fill: rgb(163,170,175)\"/></svg>"
      ],
      "text/plain": [
       "<IPython.core.display.SVG object>"
      ]
     },
     "execution_count": 88,
     "metadata": {},
     "output_type": "execute_result"
    }
   ],
   "source": [
    "f=open('Combined_colored.svg')\n",
    "c = f.readlines()\n",
    "print(''.join(c))\n",
    "f.close()\n",
    "SVG(filename='Combined_colored.svg')"
   ]
  },
  {
   "cell_type": "code",
   "execution_count": null,
   "metadata": {},
   "outputs": [],
   "source": []
  },
  {
   "cell_type": "code",
   "execution_count": null,
   "metadata": {
    "collapsed": true
   },
   "outputs": [],
   "source": []
  }
 ],
 "metadata": {
  "kernelspec": {
   "display_name": "Python 3",
   "language": "python",
   "name": "python3"
  },
  "language_info": {
   "codemirror_mode": {
    "name": "ipython",
    "version": 3
   },
   "file_extension": ".py",
   "mimetype": "text/x-python",
   "name": "python",
   "nbconvert_exporter": "python",
   "pygments_lexer": "ipython3",
   "version": "3.6.4"
  }
 },
 "nbformat": 4,
 "nbformat_minor": 2
}
