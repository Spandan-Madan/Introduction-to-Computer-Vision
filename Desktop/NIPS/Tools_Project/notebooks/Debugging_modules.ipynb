{
 "cells": [
  {
   "cell_type": "code",
   "execution_count": 1,
   "metadata": {},
   "outputs": [],
   "source": [
    "import sys\n",
    "sys.path.append('../scripts/')\n",
    "from icon_helper_functions import *\n",
    "from SVG_icon_style_transfer_module import *\n",
    "from Image_to_Parts_SVG_module import *"
   ]
  },
  {
   "cell_type": "code",
   "execution_count": 2,
   "metadata": {},
   "outputs": [],
   "source": [
    "def parse_and_stylize_hammer_image(impath,tool_name,texture_impath):\n",
    "    tool = impath.split('/')[-1]\n",
    "    tool_id = tool.split('.')[0].split('_')[1]\n",
    "    print('Working on Tool %s #%s'%(tool_name,tool_id))\n",
    "    SAVE_PATH = '../outputs/clear_%s_SVGs/%s.svg'%(tool_name,tool_id)\n",
    "    SAVE_PATH_STYLED = '../outputs/styled_%s_SVGs/%s.svg'%(tool_name,tool_id)\n",
    "    for directory in ['/'.join(SAVE_PATH.split('/')[:-1]),'/'.join(SAVE_PATH_STYLED.split('/')[:-1])]:\n",
    "        if not os.path.exists(directory):\n",
    "            os.makedirs(directory)    \n",
    "    im_to_svg(impath,SAVE_PATH)\n",
    "    apply_style(texture_impath,SAVE_PATH,SAVE_PATH_STYLED,'hammer')"
   ]
  },
  {
   "cell_type": "code",
   "execution_count": null,
   "metadata": {
    "scrolled": true
   },
   "outputs": [
    {
     "name": "stdout",
     "output_type": "stream",
     "text": [
      "Working on Tool bricklayer_hammer #1016437\n",
      "Working on Tool bricklayer_hammer #1020861\n",
      "Working on Tool bricklayer_hammer #1038881\n",
      "Working on Tool bricklayer_hammer #1039651\n",
      "Working on Tool bricklayer_hammer #1042160\n",
      "Working on Tool bricklayer_hammer #1057329\n",
      "Working on Tool bricklayer_hammer #106008\n",
      "Working on Tool bricklayer_hammer #1117273\n",
      "Working on Tool bricklayer_hammer #1117280\n",
      "Working on Tool bricklayer_hammer #1125477\n",
      "Working on Tool bricklayer_hammer #1153669\n",
      "Working on Tool bricklayer_hammer #1195756\n",
      "Working on Tool bricklayer_hammer #1205594\n",
      "Working on Tool bricklayer_hammer #1213322\n",
      "Working on Tool bricklayer_hammer #1221712\n",
      "Working on Tool bricklayer_hammer #1226653\n",
      "Working on Tool bricklayer_hammer #1233693\n",
      "Working on Tool bricklayer_hammer #124326\n",
      "Working on Tool bricklayer_hammer #1291011\n",
      "Working on Tool bricklayer_hammer #1291013\n",
      "Working on Tool bricklayer_hammer #1291014\n",
      "Working on Tool bricklayer_hammer #1291015\n",
      "Working on Tool bricklayer_hammer #1291016\n",
      "Working on Tool bricklayer_hammer #1291017\n",
      "Working on Tool bricklayer_hammer #1291018\n",
      "Working on Tool bricklayer_hammer #1291019\n",
      "Working on Tool bricklayer_hammer #1291020\n",
      "Working on Tool bricklayer_hammer #1291021\n",
      "Working on Tool bricklayer_hammer #1291022\n",
      "Working on Tool bricklayer_hammer #1291023\n",
      "Working on Tool bricklayer_hammer #1291024\n",
      "Working on Tool bricklayer_hammer #1291025\n",
      "Working on Tool bricklayer_hammer #1291026\n",
      "Working on Tool bricklayer_hammer #1291027\n",
      "Working on Tool bricklayer_hammer #1291028\n",
      "Working on Tool bricklayer_hammer #1291029\n",
      "Working on Tool bricklayer_hammer #1291046\n",
      "Working on Tool bricklayer_hammer #1308364\n",
      "Working on Tool bricklayer_hammer #1315349\n",
      "Working on Tool bricklayer_hammer #1321777\n",
      "Working on Tool bricklayer_hammer #1359885\n",
      "Working on Tool bricklayer_hammer #1359887\n",
      "Working on Tool bricklayer_hammer #1359888\n",
      "Working on Tool bricklayer_hammer #1359890\n",
      "Working on Tool bricklayer_hammer #1359891\n",
      "Working on Tool bricklayer_hammer #1359892\n",
      "Working on Tool bricklayer_hammer #1359919\n",
      "Working on Tool bricklayer_hammer #1359921\n",
      "Working on Tool bricklayer_hammer #1360623\n",
      "Working on Tool bricklayer_hammer #1360624\n",
      "Working on Tool bricklayer_hammer #1360627\n",
      "Working on Tool bricklayer_hammer #1360652\n",
      "Working on Tool bricklayer_hammer #1360653\n",
      "Working on Tool bricklayer_hammer #1360655\n",
      "Working on Tool bricklayer_hammer #1360656\n",
      "Working on Tool bricklayer_hammer #1360663\n",
      "Working on Tool bricklayer_hammer #1364735\n",
      "Working on Tool bricklayer_hammer #1372237\n",
      "Working on Tool bricklayer_hammer #1372238\n",
      "Working on Tool bricklayer_hammer #1372239\n",
      "Working on Tool bricklayer_hammer #1372240\n",
      "Working on Tool bricklayer_hammer #1372241\n",
      "Working on Tool bricklayer_hammer #1372242\n",
      "Working on Tool bricklayer_hammer #1372243\n",
      "Working on Tool bricklayer_hammer #1372244\n",
      "Working on Tool bricklayer_hammer #1372245\n",
      "Working on Tool bricklayer_hammer #1373183\n",
      "Working on Tool bricklayer_hammer #1373238\n",
      "Working on Tool bricklayer_hammer #1388487\n",
      "Working on Tool bricklayer_hammer #1404144\n",
      "Working on Tool bricklayer_hammer #1405893\n",
      "Working on Tool bricklayer_hammer #1405894\n",
      "Working on Tool bricklayer_hammer #1408354\n",
      "Working on Tool bricklayer_hammer #1411899\n",
      "Working on Tool bricklayer_hammer #1411900\n",
      "Working on Tool bricklayer_hammer #1411901\n",
      "Working on Tool bricklayer_hammer #1411902\n",
      "Working on Tool bricklayer_hammer #1418567\n",
      "Working on Tool bricklayer_hammer #1418571\n",
      "Working on Tool bricklayer_hammer #174629\n"
     ]
    }
   ],
   "source": [
    "base_path = '../data/Icons_clean/bricklayer_hammer/'\n",
    "texture_impath = '../data/Flat_icon/hammer/222586.png'\n",
    "tool_name = base_path.split('/')[-2]\n",
    "all_tools = os.listdir(base_path)\n",
    "for tool in all_tools:\n",
    "    if tool.startswith('.'):\n",
    "        pass\n",
    "    else:\n",
    "        impath = base_path + tool\n",
    "        parse_and_stylize_hammer_image(impath,tool_name,texture_impath)"
   ]
  },
  {
   "cell_type": "code",
   "execution_count": null,
   "metadata": {
    "collapsed": true
   },
   "outputs": [],
   "source": []
  }
 ],
 "metadata": {
  "kernelspec": {
   "display_name": "Python 3",
   "language": "python",
   "name": "python3"
  },
  "language_info": {
   "codemirror_mode": {
    "name": "ipython",
    "version": 3
   },
   "file_extension": ".py",
   "mimetype": "text/x-python",
   "name": "python",
   "nbconvert_exporter": "python",
   "pygments_lexer": "ipython3",
   "version": "3.6.4"
  }
 },
 "nbformat": 4,
 "nbformat_minor": 2
}
