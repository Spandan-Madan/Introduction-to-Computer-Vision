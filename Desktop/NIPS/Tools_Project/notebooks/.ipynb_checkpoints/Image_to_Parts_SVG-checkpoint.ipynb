{
 "cells": [
  {
   "cell_type": "code",
   "execution_count": 1,
   "metadata": {
    "collapsed": true
   },
   "outputs": [],
   "source": [
    "import os\n",
    "import cv2\n",
    "import matplotlib.pyplot as plt\n",
    "from PIL import Image\n",
    "import numpy as np\n",
    "import sys\n",
    "sys.path.append('../scripts/')\n",
    "import cv2\n",
    "import matplotlib.patches as patches\n",
    "import math\n",
    "import scipy\n",
    "from scipy.ndimage.morphology import binary_closing\n",
    "from scipy import ndimage\n",
    "from IPython.display import SVG \n",
    "from IPython.display import Pretty \n",
    "import pprint\n",
    "import cv2\n",
    "import numpy as np\n",
    "import matplotlib.pyplot as plt\n",
    "from sklearn.cluster import KMeans"
   ]
  },
  {
   "cell_type": "code",
   "execution_count": 2,
   "metadata": {
    "collapsed": true
   },
   "outputs": [],
   "source": [
    "from icon_helper_functions import *"
   ]
  },
  {
   "cell_type": "code",
   "execution_count": 3,
   "metadata": {},
   "outputs": [
    {
     "data": {
      "image/png": "[encoded data removed]",
      "text/plain": [
       "<matplotlib.figure.Figure at 0x1078eb390>"
      ]
     },
     "metadata": {},
     "output_type": "display_data"
    }
   ],
   "source": [
    "impath = '../data/Icons_clean/bricklayer_hammer/bricklayer%20hammer_1016437.jpg'\n",
    "im = Image.open(impath)\n",
    "imcv = cv2.imread(impath,-1)[:,:,3]\n",
    "show(im,'original image')"
   ]
  },
  {
   "cell_type": "markdown",
   "metadata": {},
   "source": [
    "# Invoke helper function to split into parts based on geometry"
   ]
  },
  {
   "cell_type": "code",
   "execution_count": 4,
   "metadata": {},
   "outputs": [],
   "source": [
    "ims = image_splitter(impath,filled=True)"
   ]
  },
  {
   "cell_type": "code",
   "execution_count": 5,
   "metadata": {
    "collapsed": true
   },
   "outputs": [],
   "source": [
    "PARTS = (ims[0],ims[1])"
   ]
  },
  {
   "cell_type": "code",
   "execution_count": 6,
   "metadata": {},
   "outputs": [
    {
     "data": {
      "image/png": "[encoded data removed]",
      "text/plain": [
       "<matplotlib.figure.Figure at 0x116d71860>"
      ]
     },
     "metadata": {},
     "output_type": "display_data"
    },
    {
     "data": {
      "image/png": "[encoded data removed]",
      "text/plain": [
       "<matplotlib.figure.Figure at 0x11a5469b0>"
      ]
     },
     "metadata": {},
     "output_type": "display_data"
    }
   ],
   "source": [
    "for i in range(len(PARTS)):\n",
    "    show(PARTS[i],'Part %s'%str(i+1))"
   ]
  },
  {
   "cell_type": "code",
   "execution_count": 7,
   "metadata": {
    "collapsed": true
   },
   "outputs": [],
   "source": [
    "def plot_primitive(im_part,title,FACTOR):\n",
    "    open_cv_image = np.array(im_part) \n",
    "    open_cv_image = open_cv_image[:, :, ::-1].copy() \n",
    "    edged = cv2.Canny(open_cv_image, 30, 200)\n",
    "    _, contours, hierarchy = cv2.findContours(edged, cv2.RETR_LIST, cv2.CHAIN_APPROX_SIMPLE)\n",
    "    rects = [cv2.boundingRect(cnt) for cnt in contours]\n",
    "    rects = sorted(rects,key=lambda  x:x[1],reverse=True)\n",
    "\n",
    "    shapes = []\n",
    "    apps = []\n",
    "#     print(len(contours))\n",
    "    if len(contours) < 1:\n",
    "        print('No contours')\n",
    "        return -1\n",
    "    for cnt in contours:\n",
    "        approx = cv2.approxPolyDP(cnt,FACTOR*cv2.arcLength(cnt,True),True)\n",
    "        if len(approx)==3:\n",
    "#             print(approx)\n",
    "#             print('triangle')\n",
    "            shapes.append('triange')\n",
    "            apps.append(approx)\n",
    "        elif len(approx)==4:\n",
    "#             print(approx)\n",
    "#             print('4 sided')\n",
    "            shapes.append('4 sided')\n",
    "            apps.append(approx)\n",
    "        else:\n",
    "#             print(len(approx))\n",
    "            shapes.append('none')\n",
    "            apps.append(approx)\n",
    "#             print('none')\n",
    "    \n",
    "    max_area = 0\n",
    "    for ct in range(len(rects)):\n",
    "        rect = rects[ct]\n",
    "        area = rect[2]*rect[3]\n",
    "        if area > max_area:\n",
    "            max_area = area\n",
    "            pos = ct\n",
    "#     print(pos)\n",
    "#     print(len(apps))\n",
    "#     print(apps[pos])\n",
    "    dummy_img = open_cv_image*0\n",
    "    clean_plot = cv2.drawContours(dummy_img,apps,pos,(0,255,0),4)\n",
    "    print(shapes[pos])\n",
    "    plt.imshow(clean_plot)\n",
    "    plt.axis('off')\n",
    "    plt.title(title)\n",
    "    plt.show()\n",
    "    return apps,pos,rects,hierarchy"
   ]
  },
  {
   "cell_type": "code",
   "execution_count": 8,
   "metadata": {},
   "outputs": [
    {
     "data": {
      "image/png": "[encoded data removed]",
      "text/plain": [
       "<matplotlib.figure.Figure at 0x11a45a5f8>"
      ]
     },
     "metadata": {},
     "output_type": "display_data"
    },
    {
     "name": "stdout",
     "output_type": "stream",
     "text": [
      "none\n"
     ]
    },
    {
     "data": {
      "image/png": "[encoded data removed]",
      "text/plain": [
       "<matplotlib.figure.Figure at 0x11a1e19b0>"
      ]
     },
     "metadata": {},
     "output_type": "display_data"
    },
    {
     "data": {
      "image/png": "[encoded data removed]",
      "text/plain": [
       "<matplotlib.figure.Figure at 0x11a3fecc0>"
      ]
     },
     "metadata": {},
     "output_type": "display_data"
    },
    {
     "name": "stdout",
     "output_type": "stream",
     "text": [
      "none\n"
     ]
    },
    {
     "data": {
      "image/png": "[encoded data removed]",
      "text/plain": [
       "<matplotlib.figure.Figure at 0x116d7de80>"
      ]
     },
     "metadata": {},
     "output_type": "display_data"
    }
   ],
   "source": [
    "best_shapes = []\n",
    "svg_start = '<svg width=\"200\" height=\"200\" xmlns=\"http://www.w3.org/2000/svg\" xmlns:xlink=\"http://www.w3.org/1999/xlink\">'\n",
    "svg_end = '</svg>'\n",
    "\n",
    "for i in range(len(PARTS)):\n",
    "    \n",
    "    show(PARTS[i],'Part %s'%str(i+1))\n",
    "    all_shapes,pos,rects,hierarchy = plot_primitive(PARTS[i],'Approximation for part %s'%str(i+1),0.02)\n",
    "    best_shape = all_shapes[pos]\n",
    "    best_shapes.append(best_shape)\n",
    "    \n",
    "    coordinates = ''\n",
    "    ct = 0\n",
    "    for point in best_shape:\n",
    "        if ct > 0:\n",
    "            coordinates += ' '\n",
    "        x,y = point[0][0],point[0][1]\n",
    "        coordinates += '%s,%s'%(x,y)\n",
    "        ct += 1\n",
    "    element = '<polygon points=\"%s\" style=\"stroke:green; fill: white\"/>'%coordinates\n",
    "    \n",
    "    if i == 0:\n",
    "        elements = element\n",
    "    else:\n",
    "        elements += '\\n' + element\n",
    "    svg_parts = svg_start + '\\n' + element + svg_end\n",
    "    \n",
    "    f = open('Part_%s.svg'%i,'w')\n",
    "    print(svg_parts,file = f)\n",
    "    f.close()\n",
    "svg_content = svg_start + '\\n' + elements + svg_end\n",
    "f = open('Combined.svg','w')\n",
    "print(svg_content,file = f)\n",
    "f.close()"
   ]
  },
  {
   "cell_type": "code",
   "execution_count": 9,
   "metadata": {},
   "outputs": [
    {
     "name": "stdout",
     "output_type": "stream",
     "text": [
      "<svg width=\"200\" height=\"200\" xmlns=\"http://www.w3.org/2000/svg\" xmlns:xlink=\"http://www.w3.org/1999/xlink\">\n",
      "<polygon points=\"72,0 136,27 166,53 151,88 109,92 45,58\" style=\"stroke:green; fill: white\"/></svg>\n",
      "\n"
     ]
    },
    {
     "data": {
      "image/svg+xml": [
       "<svg height=\"200\" width=\"200\" xmlns=\"http://www.w3.org/2000/svg\" xmlns:xlink=\"http://www.w3.org/1999/xlink\">\n",
       "<polygon points=\"72,0 136,27 166,53 151,88 109,92 45,58\" style=\"stroke:green; fill: white\"/></svg>"
      ],
      "text/plain": [
       "<IPython.core.display.SVG object>"
      ]
     },
     "execution_count": 9,
     "metadata": {},
     "output_type": "execute_result"
    }
   ],
   "source": [
    "f=open('Part_1.svg')\n",
    "c = f.readlines()\n",
    "print(''.join(c))\n",
    "f.close()\n",
    "SVG(filename='Part_1.svg')"
   ]
  },
  {
   "cell_type": "code",
   "execution_count": 10,
   "metadata": {},
   "outputs": [
    {
     "name": "stdout",
     "output_type": "stream",
     "text": [
      "<svg width=\"200\" height=\"200\" xmlns=\"http://www.w3.org/2000/svg\" xmlns:xlink=\"http://www.w3.org/1999/xlink\">\n",
      "<polygon points=\"108,91 66,196 41,195 32,183 76,81\" style=\"stroke:green; fill: white\"/></svg>\n",
      "\n"
     ]
    },
    {
     "data": {
      "image/svg+xml": [
       "<svg height=\"200\" width=\"200\" xmlns=\"http://www.w3.org/2000/svg\" xmlns:xlink=\"http://www.w3.org/1999/xlink\">\n",
       "<polygon points=\"108,91 66,196 41,195 32,183 76,81\" style=\"stroke:green; fill: white\"/></svg>"
      ],
      "text/plain": [
       "<IPython.core.display.SVG object>"
      ]
     },
     "execution_count": 10,
     "metadata": {},
     "output_type": "execute_result"
    }
   ],
   "source": [
    "f=open('Part_0.svg')\n",
    "c = f.readlines()\n",
    "print(''.join(c))\n",
    "f.close()\n",
    "SVG(filename='Part_0.svg')"
   ]
  },
  {
   "cell_type": "code",
   "execution_count": 11,
   "metadata": {},
   "outputs": [
    {
     "name": "stdout",
     "output_type": "stream",
     "text": [
      "<svg width=\"200\" height=\"200\" xmlns=\"http://www.w3.org/2000/svg\" xmlns:xlink=\"http://www.w3.org/1999/xlink\">\n",
      "<polygon points=\"108,91 66,196 41,195 32,183 76,81\" style=\"stroke:green; fill: white\"/>\n",
      "<polygon points=\"72,0 136,27 166,53 151,88 109,92 45,58\" style=\"stroke:green; fill: white\"/></svg>\n",
      "\n"
     ]
    },
    {
     "data": {
      "image/svg+xml": [
       "<svg height=\"200\" width=\"200\" xmlns=\"http://www.w3.org/2000/svg\" xmlns:xlink=\"http://www.w3.org/1999/xlink\">\n",
       "<polygon points=\"108,91 66,196 41,195 32,183 76,81\" style=\"stroke:green; fill: white\"/>\n",
       "<polygon points=\"72,0 136,27 166,53 151,88 109,92 45,58\" style=\"stroke:green; fill: white\"/></svg>"
      ],
      "text/plain": [
       "<IPython.core.display.SVG object>"
      ]
     },
     "execution_count": 11,
     "metadata": {},
     "output_type": "execute_result"
    }
   ],
   "source": [
    "f=open('Combined.svg')\n",
    "c = f.readlines()\n",
    "print(''.join(c))\n",
    "f.close()\n",
    "SVG(filename='Combined.svg')"
   ]
  },
  {
   "cell_type": "code",
   "execution_count": 12,
   "metadata": {},
   "outputs": [
    {
     "data": {
      "image/png": "[encoded data removed]",
      "text/plain": [
       "<matplotlib.figure.Figure at 0x11a53d978>"
      ]
     },
     "metadata": {},
     "output_type": "display_data"
    }
   ],
   "source": [
    "show(im,'original image')"
   ]
  },
  {
   "cell_type": "markdown",
   "metadata": {},
   "source": [
    "# Adding texture to our SVGs"
   ]
  },
  {
   "cell_type": "code",
   "execution_count": 13,
   "metadata": {
    "collapsed": true
   },
   "outputs": [],
   "source": [
    "texture_impath = '../data/Flat_icon/hammer/222586.png'"
   ]
  },
  {
   "cell_type": "code",
   "execution_count": 14,
   "metadata": {},
   "outputs": [
    {
     "data": {
      "image/png": "[encoded data removed]",
      "text/plain": [
       "<matplotlib.figure.Figure at 0x11a486cf8>"
      ]
     },
     "metadata": {},
     "output_type": "display_data"
    }
   ],
   "source": [
    "show(texture_impath)"
   ]
  },
  {
   "cell_type": "code",
   "execution_count": 15,
   "metadata": {},
   "outputs": [],
   "source": [
    "# im = Image.open(impath)\n",
    "texture_im = Image.open(texture_impath).resize((200,200))\n",
    "imcv = pil_to_cv(texture_im)\n",
    "\n",
    "parts = image_splitter(texture_im)"
   ]
  },
  {
   "cell_type": "code",
   "execution_count": 30,
   "metadata": {},
   "outputs": [
    {
     "data": {
      "image/png": "[encoded data removed]",
      "text/plain": [
       "<matplotlib.figure.Figure at 0x11ba99c50>"
      ]
     },
     "metadata": {},
     "output_type": "display_data"
    },
    {
     "data": {
      "image/png": "[encoded data removed]",
      "text/plain": [
       "<matplotlib.figure.Figure at 0x11bc1dac8>"
      ]
     },
     "metadata": {},
     "output_type": "display_data"
    },
    {
     "data": {
      "image/png": "[encoded data removed]",
      "text/plain": [
       "<matplotlib.figure.Figure at 0x11b9049e8>"
      ]
     },
     "metadata": {},
     "output_type": "display_data"
    },
    {
     "data": {
      "image/png": "[encoded data removed]",
      "text/plain": [
       "<matplotlib.figure.Figure at 0x11bb580b8>"
      ]
     },
     "metadata": {},
     "output_type": "display_data"
    }
   ],
   "source": [
    "part_colors = []\n",
    "for part in parts[:2]:\n",
    "    mask = np.array(part)[:,:,2]\n",
    "    mask[mask>0] = 255\n",
    "\n",
    "    res = cv2.bitwise_and(imcv,imcv,mask = mask)\n",
    "\n",
    "    plt.imshow(res)\n",
    "    plt.title('masked img')\n",
    "    plt.axis('off')\n",
    "    plt.show()\n",
    "\n",
    "    hist,color,bar = dominant_colors(texture_impath,mask)\n",
    "    best_color = color[np.argmax(np.asarray(hist))]\n",
    "    part_colors.append(best_color)\n",
    "    plt.imshow(bar)\n",
    "    plt.axis('off')\n",
    "    plt.title('top colors for part')\n",
    "    plt.show()"
   ]
  },
  {
   "cell_type": "code",
   "execution_count": 31,
   "metadata": {},
   "outputs": [],
   "source": [
    "f=open('Combined.svg','r')\n",
    "content = f.readlines()\n",
    "f.close()"
   ]
  },
  {
   "cell_type": "code",
   "execution_count": 43,
   "metadata": {},
   "outputs": [
    {
     "name": "stdout",
     "output_type": "stream",
     "text": [
      "192.990413223 124.078347107 62.1712396694\n",
      "163.345756257 170.18117519 175.039445049\n"
     ]
    }
   ],
   "source": [
    "f = open('Combined_colored.svg','w')\n",
    "ct = 0\n",
    "for c in content:\n",
    "    c = c.rstrip()\n",
    "    if c.startswith('<polygon'):\n",
    "        R,G,B = part_colors[ct]\n",
    "        color_string = 'rgb(%s,%s,%s)'%(int(R),int(G),int(B))\n",
    "        c = c.replace(\"white\",color_string)\n",
    "        print(c,file = f)\n",
    "        print(R,G,B)\n",
    "        ct += 1\n",
    "    else:\n",
    "        print(c,file=f)\n",
    "f.close()\n",
    "        "
   ]
  },
  {
   "cell_type": "code",
   "execution_count": null,
   "metadata": {
    "collapsed": true
   },
   "outputs": [],
   "source": []
  }
 ],
 "metadata": {
  "kernelspec": {
   "display_name": "Python 3",
   "language": "python",
   "name": "python3"
  },
  "language_info": {
   "codemirror_mode": {
    "name": "ipython",
    "version": 3
   },
   "file_extension": ".py",
   "mimetype": "text/x-python",
   "name": "python",
   "nbconvert_exporter": "python",
   "pygments_lexer": "ipython3",
   "version": "3.6.1"
  }
 },
 "nbformat": 4,
 "nbformat_minor": 2
}
