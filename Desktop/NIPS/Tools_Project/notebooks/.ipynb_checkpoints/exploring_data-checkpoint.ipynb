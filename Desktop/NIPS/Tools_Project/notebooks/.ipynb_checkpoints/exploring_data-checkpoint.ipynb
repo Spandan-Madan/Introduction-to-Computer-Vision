{
 "cells": [
  {
   "cell_type": "code",
   "execution_count": 1,
   "metadata": {
    "collapsed": true
   },
   "outputs": [],
   "source": [
    "import os\n",
    "import cv2\n",
    "import matplotlib.pyplot as plt\n",
    "from PIL import Image\n",
    "import numpy as np\n",
    "import sys\n",
    "sys.path.append('../scripts/')\n",
    "import cv2\n",
    "import matplotlib.patches as patches\n",
    "import math\n",
    "import scipy\n",
    "from scipy.ndimage.morphology import binary_closing\n",
    "from scipy import ndimage"
   ]
  },
  {
   "cell_type": "code",
   "execution_count": null,
   "metadata": {},
   "outputs": [],
   "source": []
  },
  {
   "cell_type": "code",
   "execution_count": 2,
   "metadata": {
    "collapsed": true
   },
   "outputs": [],
   "source": [
    "from icon_helper_functions import image_splitter\n",
    "from icon_helper_functions import show"
   ]
  },
  {
   "cell_type": "code",
   "execution_count": 15,
   "metadata": {},
   "outputs": [
    {
     "data": {
      "image/png": "[encoded data removed]",
      "text/plain": [
       "<matplotlib.figure.Figure at 0x1085ece80>"
      ]
     },
     "metadata": {},
     "output_type": "display_data"
    }
   ],
   "source": [
    "# impath = '../data/Icons_clean/bricklayer_hammer/bricklayer%20hammer_1057329.jpg'\n",
    "impath = '../data/Icons_previous/bricklayer_hammer/bricklayer%20hammer_1036668.jpg'\n",
    "im = Image.open(impath)\n",
    "imcv = cv2.imread(impath,-1)[:,:,3]\n",
    "\n",
    "plt.imshow(imcv)\n",
    "plt.show()"
   ]
  },
  {
   "cell_type": "code",
   "execution_count": 16,
   "metadata": {
    "collapsed": true
   },
   "outputs": [],
   "source": [
    "def fill_im(imcv):\n",
    "    closed = ndimage.binary_closing(imcv).astype(float)\n",
    "    return ndimage.binary_fill_holes(closed).astype(float)"
   ]
  },
  {
   "cell_type": "code",
   "execution_count": 17,
   "metadata": {
    "collapsed": true
   },
   "outputs": [],
   "source": [
    "edges = cv2.Canny(imcv,100,200)"
   ]
  },
  {
   "cell_type": "code",
   "execution_count": 18,
   "metadata": {
    "collapsed": true
   },
   "outputs": [],
   "source": [
    "dst = cv2.cornerHarris(imcv,2,3,0.04)"
   ]
  },
  {
   "cell_type": "code",
   "execution_count": 19,
   "metadata": {
    "collapsed": true
   },
   "outputs": [],
   "source": [
    "dst[dst>0.00001*dst.max()]=255\n",
    "dst[dst<=0.00001*dst.max()]=0\n"
   ]
  },
  {
   "cell_type": "code",
   "execution_count": 20,
   "metadata": {
    "collapsed": true
   },
   "outputs": [],
   "source": [
    "def pil_to_cv(pil_image):\n",
    "    open_cv_image = np.array(pil_image) \n",
    "    # Convert RGB to BGR \n",
    "    open_cv_image = open_cv_image[:, :, ::-1].copy() \n",
    "    return open_cv_image"
   ]
  },
  {
   "cell_type": "code",
   "execution_count": 21,
   "metadata": {
    "collapsed": true
   },
   "outputs": [],
   "source": [
    "# imcv = cv2.imread(impath,-1)[:,:,3]\n",
    "# filled_im = fill_im(imcv)\n",
    "# cv2_im = cv2.cvtColor(filled_im,cv2.COLOR_BGR2RGB)\n",
    "# im = Image.fromarray(cv2_im)\n",
    "# data = np.array(im)\n",
    "# dat = data[:,:,1]"
   ]
  },
  {
   "cell_type": "code",
   "execution_count": 22,
   "metadata": {},
   "outputs": [
    {
     "data": {
      "image/png": "[encoded data removed]",
      "text/plain": [
       "<matplotlib.figure.Figure at 0x11c1d58d0>"
      ]
     },
     "metadata": {},
     "output_type": "display_data"
    }
   ],
   "source": [
    "plt.imshow(edges)\n",
    "plt.show()"
   ]
  },
  {
   "cell_type": "code",
   "execution_count": 39,
   "metadata": {
    "collapsed": true
   },
   "outputs": [],
   "source": [
    "ims = image_splitter(impath,filled=True)"
   ]
  },
  {
   "cell_type": "code",
   "execution_count": 40,
   "metadata": {
    "collapsed": true
   },
   "outputs": [],
   "source": [
    "PART = ims[1]"
   ]
  },
  {
   "cell_type": "code",
   "execution_count": 41,
   "metadata": {
    "collapsed": true
   },
   "outputs": [],
   "source": [
    "# filled_part = fill_im(imcv)\n",
    "\n",
    "# filled_part.shape\n",
    "\n",
    "# plt.imshow(filled_part)\n",
    "# plt.show()\n",
    "\n",
    "# im = Image.fromarray(np.uint8(filled_part * 255),'L')"
   ]
  },
  {
   "cell_type": "code",
   "execution_count": 42,
   "metadata": {},
   "outputs": [
    {
     "data": {
      "image/png": "[encoded data removed]",
      "text/plain": [
       "<matplotlib.figure.Figure at 0x11796d438>"
      ]
     },
     "metadata": {},
     "output_type": "display_data"
    }
   ],
   "source": [
    "plt.imshow(PART)\n",
    "plt.show()"
   ]
  },
  {
   "cell_type": "code",
   "execution_count": null,
   "metadata": {
    "collapsed": true
   },
   "outputs": [],
   "source": []
  },
  {
   "cell_type": "code",
   "execution_count": 43,
   "metadata": {
    "collapsed": true
   },
   "outputs": [],
   "source": [
    "# len(ims)"
   ]
  },
  {
   "cell_type": "code",
   "execution_count": 44,
   "metadata": {
    "collapsed": true
   },
   "outputs": [],
   "source": [
    "# im2 = image_splitter(ims[2])"
   ]
  },
  {
   "cell_type": "code",
   "execution_count": 45,
   "metadata": {
    "collapsed": true,
    "scrolled": false
   },
   "outputs": [],
   "source": [
    "# plt.imshow(ims[1])\n",
    "# plt.show()"
   ]
  },
  {
   "cell_type": "code",
   "execution_count": 46,
   "metadata": {
    "collapsed": true
   },
   "outputs": [],
   "source": [
    "# def pil_to_cv(pil_image):\n",
    "#     open_cv_image = np.array(pil_image) \n",
    "#     # Convert RGB to BGR \n",
    "#     open_cv_image = open_cv_image[:, :, ::-1].copy() \n",
    "#     return open_cv_image"
   ]
  },
  {
   "cell_type": "code",
   "execution_count": 47,
   "metadata": {
    "collapsed": true
   },
   "outputs": [],
   "source": [
    "# plt.imshow(fill_im(pil_to_cv(ims[1])))\n",
    "# plt.show()"
   ]
  },
  {
   "cell_type": "code",
   "execution_count": 48,
   "metadata": {
    "collapsed": true
   },
   "outputs": [],
   "source": [
    "# part_1 = fill_im(pil_to_cv(ims[1]))"
   ]
  },
  {
   "cell_type": "code",
   "execution_count": 49,
   "metadata": {
    "collapsed": true
   },
   "outputs": [],
   "source": [
    "# type(pil_to_cv(ims[1]))"
   ]
  },
  {
   "cell_type": "code",
   "execution_count": 50,
   "metadata": {
    "collapsed": true
   },
   "outputs": [],
   "source": [
    "# type(imcv)"
   ]
  },
  {
   "cell_type": "code",
   "execution_count": 51,
   "metadata": {
    "collapsed": true
   },
   "outputs": [],
   "source": [
    "# np.min(part_1)"
   ]
  },
  {
   "cell_type": "code",
   "execution_count": 52,
   "metadata": {
    "collapsed": true
   },
   "outputs": [],
   "source": [
    "def plot_primitive(im_part):\n",
    "    open_cv_image = np.array(im_part) \n",
    "    open_cv_image = open_cv_image[:, :, ::-1].copy() \n",
    "    edged = cv2.Canny(open_cv_image, 30, 200)\n",
    "    _, contours, hierarchy = cv2.findContours(edged, cv2.RETR_LIST, cv2.CHAIN_APPROX_SIMPLE)\n",
    "    rects = [cv2.boundingRect(cnt) for cnt in contours]\n",
    "    rects = sorted(rects,key=lambda  x:x[1],reverse=True)\n",
    "\n",
    "    shapes = []\n",
    "    apps = []\n",
    "#     print(len(contours))\n",
    "    if len(contours) < 1:\n",
    "        print('No contours')\n",
    "        return -1\n",
    "    for cnt in contours:\n",
    "        approx = cv2.approxPolyDP(cnt,0.05*cv2.arcLength(cnt,True),True)\n",
    "        if len(approx)==3:\n",
    "#             print(approx)\n",
    "#             print('triangle')\n",
    "            shapes.append('triange')\n",
    "            apps.append(approx)\n",
    "        elif len(approx)==4:\n",
    "#             print(approx)\n",
    "#             print('4 sided')\n",
    "            shapes.append('4 sided')\n",
    "            apps.append(approx)\n",
    "        else:\n",
    "#             print(len(approx))\n",
    "            shapes.append('none')\n",
    "            apps.append(approx)\n",
    "#             print('none')\n",
    "    \n",
    "    max_area = 0\n",
    "    for ct in range(len(rects)):\n",
    "        rect = rects[ct]\n",
    "        area = rect[2]*rect[3]\n",
    "        if area > max_area:\n",
    "            max_area = area\n",
    "            pos = ct\n",
    "#     print(pos)\n",
    "#     print(len(apps))\n",
    "#     print(apps[pos])\n",
    "    dummy_img = open_cv_image*0\n",
    "    clean_plot = cv2.drawContours(dummy_img,apps,pos,(0,255,0),4)\n",
    "    print(shapes[pos])\n",
    "    plt.imshow(clean_plot)\n",
    "    plt.show()\n",
    "    return apps,pos,rects,hierarchy"
   ]
  },
  {
   "cell_type": "code",
   "execution_count": 53,
   "metadata": {},
   "outputs": [
    {
     "data": {
      "image/png": "[encoded data removed]",
      "text/plain": [
       "<matplotlib.figure.Figure at 0x11c19f4e0>"
      ]
     },
     "metadata": {},
     "output_type": "display_data"
    }
   ],
   "source": [
    "plt.imshow(PART)\n",
    "plt.show()"
   ]
  },
  {
   "cell_type": "code",
   "execution_count": 54,
   "metadata": {},
   "outputs": [
    {
     "name": "stdout",
     "output_type": "stream",
     "text": [
      "none\n"
     ]
    },
    {
     "data": {
      "image/png": "[encoded data removed]",
      "text/plain": [
       "<matplotlib.figure.Figure at 0x108516860>"
      ]
     },
     "metadata": {},
     "output_type": "display_data"
    }
   ],
   "source": [
    "all_shapes,pos,rects,hierarchy = plot_primitive(PART)\n",
    "best_shape = all_shapes[pos]"
   ]
  },
  {
   "cell_type": "code",
   "execution_count": 55,
   "metadata": {},
   "outputs": [
    {
     "ename": "NameError",
     "evalue": "name 'check_' is not defined",
     "output_type": "error",
     "traceback": [
      "\u001b[0;31m---------------------------------------------------------------------------\u001b[0m",
      "\u001b[0;31mNameError\u001b[0m                                 Traceback (most recent call last)",
      "\u001b[0;32m<ipython-input-55-65190f8015e3>\u001b[0m in \u001b[0;36m<module>\u001b[0;34m()\u001b[0m\n\u001b[0;32m----> 1\u001b[0;31m \u001b[0mcheck_\u001b[0m\u001b[0;34m\u001b[0m\u001b[0m\n\u001b[0m",
      "\u001b[0;31mNameError\u001b[0m: name 'check_' is not defined"
     ]
    }
   ],
   "source": [
    "check_"
   ]
  },
  {
   "cell_type": "code",
   "execution_count": 56,
   "metadata": {},
   "outputs": [
    {
     "ename": "NameError",
     "evalue": "name 'check_similarity' is not defined",
     "output_type": "error",
     "traceback": [
      "\u001b[0;31m---------------------------------------------------------------------------\u001b[0m",
      "\u001b[0;31mNameError\u001b[0m                                 Traceback (most recent call last)",
      "\u001b[0;32m<ipython-input-56-0ea6026d83eb>\u001b[0m in \u001b[0;36m<module>\u001b[0;34m()\u001b[0m\n\u001b[1;32m      4\u001b[0m         \u001b[0mrec1\u001b[0m \u001b[0;34m=\u001b[0m \u001b[0mall_shapes\u001b[0m\u001b[0;34m[\u001b[0m\u001b[0mi\u001b[0m\u001b[0;34m]\u001b[0m\u001b[0;34m\u001b[0m\u001b[0m\n\u001b[1;32m      5\u001b[0m         \u001b[0mrec2\u001b[0m \u001b[0;34m=\u001b[0m \u001b[0mall_shapes\u001b[0m\u001b[0;34m[\u001b[0m\u001b[0mj\u001b[0m\u001b[0;34m]\u001b[0m\u001b[0;34m\u001b[0m\u001b[0m\n\u001b[0;32m----> 6\u001b[0;31m         \u001b[0mcheck\u001b[0m \u001b[0;34m=\u001b[0m \u001b[0mcheck_similarity\u001b[0m\u001b[0;34m(\u001b[0m\u001b[0mrec1\u001b[0m\u001b[0;34m,\u001b[0m\u001b[0mrec2\u001b[0m\u001b[0;34m)\u001b[0m\u001b[0;34m\u001b[0m\u001b[0m\n\u001b[0m\u001b[1;32m      7\u001b[0m         \u001b[0;32mif\u001b[0m \u001b[0mcheck\u001b[0m \u001b[0;34m==\u001b[0m \u001b[0;32mTrue\u001b[0m\u001b[0;34m:\u001b[0m\u001b[0;34m\u001b[0m\u001b[0m\n\u001b[1;32m      8\u001b[0m             \u001b[0mclean\u001b[0m\u001b[0;34m.\u001b[0m\u001b[0mappend\u001b[0m\u001b[0;34m(\u001b[0m\u001b[0mi\u001b[0m\u001b[0;34m)\u001b[0m\u001b[0;34m\u001b[0m\u001b[0m\n",
      "\u001b[0;31mNameError\u001b[0m: name 'check_similarity' is not defined"
     ]
    }
   ],
   "source": [
    "clean = []\n",
    "for i in range(len(all_shapes)):\n",
    "    for j in range(len(all_shapes)):\n",
    "        rec1 = all_shapes[i]\n",
    "        rec2 = all_shapes[j]\n",
    "        check = check_similarity(rec1,rec2)\n",
    "        if check == True:\n",
    "            clean.append(i)\n",
    "            clean.append(j)\n",
    "clean = list(set(clean))"
   ]
  },
  {
   "cell_type": "code",
   "execution_count": 57,
   "metadata": {},
   "outputs": [
    {
     "data": {
      "text/plain": [
       "array([71, 48], dtype=int32)"
      ]
     },
     "execution_count": 57,
     "metadata": {},
     "output_type": "execute_result"
    }
   ],
   "source": [
    "all_shapes[1][0][0]"
   ]
  },
  {
   "cell_type": "code",
   "execution_count": 58,
   "metadata": {},
   "outputs": [
    {
     "data": {
      "text/plain": [
       "(71, 43, 58, 44)"
      ]
     },
     "execution_count": 58,
     "metadata": {},
     "output_type": "execute_result"
    }
   ],
   "source": [
    "rects[0]"
   ]
  },
  {
   "cell_type": "code",
   "execution_count": 59,
   "metadata": {},
   "outputs": [
    {
     "data": {
      "text/plain": [
       "(71, 43, 58, 44)"
      ]
     },
     "execution_count": 59,
     "metadata": {},
     "output_type": "execute_result"
    }
   ],
   "source": [
    "rects[1]"
   ]
  },
  {
   "cell_type": "code",
   "execution_count": 60,
   "metadata": {
    "collapsed": true
   },
   "outputs": [],
   "source": [
    "def check_similarity(rec1,rec2):\n",
    "    x_min_1 = rec1[0]\n",
    "    x_max_1 = x_min_1 + rec1[2]\n",
    "    y_min_1 = rec1[1]\n",
    "    y_max_1 = y_min_1 + rec1[3]\n",
    "    \n",
    "    x_min_2 = rec2[0]\n",
    "    x_max_2 = x_min_2 + rec2[2]\n",
    "    y_min_2 = rec2[1]\n",
    "    y_max_2 = y_min_2 + rec2[3]\n",
    "    \n",
    "    overlap_ratio = ((min(x_max_1,x_max_2) - max(x_min_1,x_min_2)) * (min(y_max_1,y_max_2) - max(y_min_1,y_min_2)))/max(rec1[2]*rec1[3],rec2[2]*rec2[3])\n",
    "    if overlap_ratio > 0.85:\n",
    "#         print(overlap_ratio)\n",
    "        return True\n",
    "    else:\n",
    "        return False\n",
    "#     a1 = 1\n",
    "#     a2 = 2\n",
    "#     xs = []\n",
    "#     if len(rec1) != len(rec2):\n",
    "#         return False\n",
    "#     for i in range(len(rec1)): \n",
    "#         x1,y1 = rec1[0][0][0],rec1[0][0][1]\n",
    "#         x2,y2 = rec2[0][0][0],rec2[0][0][1]\n",
    "        \n",
    "#         if abs((x1-x2)/x2) > 0.1 and abs((x1-x2)/x1) > 0.1:\n",
    "#             return False\n",
    "#         if abs((y1-y2)/y2) > 0.1 and abs((y1-y2)/y1) > 0.1:\n",
    "#             return False\n",
    "#     return True"
   ]
  },
  {
   "cell_type": "code",
   "execution_count": 61,
   "metadata": {
    "collapsed": true
   },
   "outputs": [],
   "source": [
    "# # DEBUG CODE BELOW\n",
    "# check_similarity(rects[0],rects[1])\n",
    "\n",
    "# rec1 = rects[0]\n",
    "# rec2 = rects[1]\n",
    "\n",
    "# x_min_1 = rec1[0]\n",
    "# x_max_1 = x_min_1 + rec1[2]\n",
    "# y_min_1 = rec1[1]\n",
    "# y_max_1 = y_min_1 + rec1[3]\n",
    "\n",
    "# x_min_2 = rec2[0]\n",
    "# x_max_2 = x_min_2 + rec1[2]\n",
    "# y_min_2 = rec1[2]\n",
    "# y_max_2 = y_min_2 + rec1[3]\n",
    "\n",
    "\n",
    "\n",
    "# (min(x_max_1,x_max_2) - max(x_min_1,x_min_2)) * ((min(y_max_1,y_max_2)) - max(y_min_1,y_min_2))\n",
    "\n",
    "# (min(y_max_1,y_max_2))\n",
    "\n",
    "# max(y_min_1,y_min_2)\n",
    "\n",
    "# y_min_1,y_min_2\n",
    "\n",
    "# max(x_min_1,x_min_2)\n",
    "\n",
    "# x_min_1,x_max_2,y_min_1,y_max_1\n",
    "\n",
    "# check_similarity(rec1,rec2)"
   ]
  },
  {
   "cell_type": "code",
   "execution_count": 62,
   "metadata": {
    "collapsed": true,
    "scrolled": false
   },
   "outputs": [],
   "source": [
    "ct = 0\n",
    "similar_pairs = []\n",
    "for i in range(len(all_shapes)):\n",
    "    for j in range(i):\n",
    "        if check_similarity(rects[i],rects[j]):\n",
    "            similar_pairs.append((i,j))\n",
    "            similar_pairs.append((j,i))"
   ]
  },
  {
   "cell_type": "code",
   "execution_count": 63,
   "metadata": {
    "collapsed": true
   },
   "outputs": [],
   "source": [
    "clean_set = []\n",
    "for i in range(len(all_shapes)):\n",
    "    if i == 0:\n",
    "        clean_set.append(i)\n",
    "    else:\n",
    "        allowed = True\n",
    "        for j in clean_set:\n",
    "            if (j,i) in similar_pairs:\n",
    "                allowed = False\n",
    "        if allowed:\n",
    "            clean_set.append(i)"
   ]
  },
  {
   "cell_type": "code",
   "execution_count": 64,
   "metadata": {},
   "outputs": [
    {
     "data": {
      "text/plain": [
       "[0]"
      ]
     },
     "execution_count": 64,
     "metadata": {},
     "output_type": "execute_result"
    }
   ],
   "source": [
    "clean_set"
   ]
  },
  {
   "cell_type": "code",
   "execution_count": 65,
   "metadata": {
    "scrolled": false
   },
   "outputs": [
    {
     "ename": "NameError",
     "evalue": "name 'open_cv_image' is not defined",
     "output_type": "error",
     "traceback": [
      "\u001b[0;31m---------------------------------------------------------------------------\u001b[0m",
      "\u001b[0;31mNameError\u001b[0m                                 Traceback (most recent call last)",
      "\u001b[0;32m<ipython-input-65-13df01c42547>\u001b[0m in \u001b[0;36m<module>\u001b[0;34m()\u001b[0m\n\u001b[1;32m      1\u001b[0m \u001b[0;32mfor\u001b[0m \u001b[0mpos\u001b[0m \u001b[0;32min\u001b[0m \u001b[0mclean_set\u001b[0m\u001b[0;34m:\u001b[0m\u001b[0;34m\u001b[0m\u001b[0m\n\u001b[0;32m----> 2\u001b[0;31m     \u001b[0mdummy_img\u001b[0m \u001b[0;34m=\u001b[0m \u001b[0mopen_cv_image\u001b[0m\u001b[0;34m*\u001b[0m\u001b[0;36m0\u001b[0m\u001b[0;34m\u001b[0m\u001b[0m\n\u001b[0m\u001b[1;32m      3\u001b[0m     \u001b[0mclean_plot\u001b[0m \u001b[0;34m=\u001b[0m \u001b[0mcv2\u001b[0m\u001b[0;34m.\u001b[0m\u001b[0mdrawContours\u001b[0m\u001b[0;34m(\u001b[0m\u001b[0mdummy_img\u001b[0m\u001b[0;34m,\u001b[0m\u001b[0mall_shapes\u001b[0m\u001b[0;34m,\u001b[0m\u001b[0mpos\u001b[0m\u001b[0;34m,\u001b[0m\u001b[0;34m(\u001b[0m\u001b[0;36m0\u001b[0m\u001b[0;34m,\u001b[0m\u001b[0;36m255\u001b[0m\u001b[0;34m,\u001b[0m\u001b[0;36m0\u001b[0m\u001b[0;34m)\u001b[0m\u001b[0;34m,\u001b[0m\u001b[0;36m4\u001b[0m\u001b[0;34m)\u001b[0m\u001b[0;34m\u001b[0m\u001b[0m\n\u001b[1;32m      4\u001b[0m     \u001b[0mplt\u001b[0m\u001b[0;34m.\u001b[0m\u001b[0mimshow\u001b[0m\u001b[0;34m(\u001b[0m\u001b[0mclean_plot\u001b[0m\u001b[0;34m)\u001b[0m\u001b[0;34m\u001b[0m\u001b[0m\n\u001b[1;32m      5\u001b[0m     \u001b[0mplt\u001b[0m\u001b[0;34m.\u001b[0m\u001b[0mshow\u001b[0m\u001b[0;34m(\u001b[0m\u001b[0;34m)\u001b[0m\u001b[0;34m\u001b[0m\u001b[0m\n",
      "\u001b[0;31mNameError\u001b[0m: name 'open_cv_image' is not defined"
     ]
    }
   ],
   "source": [
    "for pos in clean_set:\n",
    "    dummy_img = open_cv_image*0\n",
    "    clean_plot = cv2.drawContours(dummy_img,all_shapes,pos,(0,255,0),4)\n",
    "    plt.imshow(clean_plot)\n",
    "    plt.show()"
   ]
  },
  {
   "cell_type": "code",
   "execution_count": 66,
   "metadata": {},
   "outputs": [
    {
     "ename": "IndexError",
     "evalue": "list index out of range",
     "output_type": "error",
     "traceback": [
      "\u001b[0;31m---------------------------------------------------------------------------\u001b[0m",
      "\u001b[0;31mIndexError\u001b[0m                                Traceback (most recent call last)",
      "\u001b[0;32m<ipython-input-66-cbd80543d28a>\u001b[0m in \u001b[0;36m<module>\u001b[0;34m()\u001b[0m\n\u001b[0;32m----> 1\u001b[0;31m \u001b[0mbest_shape\u001b[0m \u001b[0;34m=\u001b[0m \u001b[0mall_shapes\u001b[0m\u001b[0;34m[\u001b[0m\u001b[0;36m6\u001b[0m\u001b[0;34m]\u001b[0m\u001b[0;34m\u001b[0m\u001b[0m\n\u001b[0m",
      "\u001b[0;31mIndexError\u001b[0m: list index out of range"
     ]
    }
   ],
   "source": [
    "best_shape = all_shapes[6]"
   ]
  },
  {
   "cell_type": "code",
   "execution_count": 67,
   "metadata": {
    "collapsed": true
   },
   "outputs": [],
   "source": [
    "# y1,x1 = best_shape[0][0][0],best_shape[0][0][1]\n",
    "# y2,x2 = best_shape[1][0][0],best_shape[1][0][1]\n",
    "# y3,x3 = best_shape[2][0][0],best_shape[2][0][1]\n",
    "# y4,x4 = best_shape[3][0][0],best_shape[3][0][1]\n",
    "\n",
    "# def dist(x1,y1,x2,y2):\n",
    "#     return ((y2-y1)**2 + (x2-x1)**2)**0.5\n",
    "\n",
    "# distances = [dist(x1,y1,x2,y2),dist(x1,y1,x3,y3),dist(x1,y1,x4,y4)]\n",
    "# a,b = np.sort(np.asarray(distances))[:2]\n",
    "# height = max(a,b)\n",
    "# width = min(a,b)\n",
    "\n",
    "# slope = (y4-y1)/(x4-x1)\n",
    "\n",
    "# angle = math.degrees(math.atan(slope))\n",
    "\n"
   ]
  },
  {
   "cell_type": "code",
   "execution_count": 68,
   "metadata": {
    "collapsed": true
   },
   "outputs": [],
   "source": [
    "coordinates = ''\n",
    "ct = 0\n",
    "for point in best_shape:\n",
    "    if ct > 0:\n",
    "        coordinates += ' '\n",
    "    x,y = point[0][0],point[0][1]\n",
    "    coordinates += '%s,%s'%(x,y)\n",
    "    ct += 1"
   ]
  },
  {
   "cell_type": "code",
   "execution_count": 69,
   "metadata": {
    "collapsed": true
   },
   "outputs": [],
   "source": [
    "# coordinates"
   ]
  },
  {
   "cell_type": "code",
   "execution_count": 70,
   "metadata": {
    "collapsed": true
   },
   "outputs": [],
   "source": [
    "# coordinates = '134,103 105,16 121,125 98,2 75,87 102,2 107,122 104,15 82,83'"
   ]
  },
  {
   "cell_type": "code",
   "execution_count": 71,
   "metadata": {},
   "outputs": [
    {
     "data": {
      "image/svg+xml": [
       "<svg height=\"200\" width=\"200\" xmlns=\"http://www.w3.org/2000/svg\" xmlns:xlink=\"http://www.w3.org/1999/xlink\">\n",
       "<polygon points=\"71,48 122,43 128,66 108,64 93,86\" style=\"stroke:green; fill: white\"/></svg>"
      ],
      "text/plain": [
       "<IPython.core.display.SVG object>"
      ]
     },
     "execution_count": 71,
     "metadata": {},
     "output_type": "execute_result"
    }
   ],
   "source": [
    "svg_str = '<svg width=\"200\" height=\"200\" xmlns=\"http://www.w3.org/2000/svg\" xmlns:xlink=\"http://www.w3.org/1999/xlink\">'\n",
    "\n",
    "# element = '<rect x=\"%s\" y=\"%s\" height=\"%s\" width=\"%s\" style=\"stroke:green; fill: white\" transform=\"rotate(%s %s %s)\"></rect>'%(x1,y1,width,height,angle,x1,y1)\n",
    "element = '<polygon points=\"%s\" style=\"stroke:green; fill: white\"/>'%coordinates\n",
    "svg_content = svg_str + '\\n' + element + '</svg>'\n",
    "\n",
    "f = open('trial.svg','w')\n",
    "print(svg_content,file = f)\n",
    "f.close()\n",
    "\n",
    "from IPython.display import SVG \n",
    "SVG(filename='trial.svg')"
   ]
  },
  {
   "cell_type": "markdown",
   "metadata": {},
   "source": [
    "# Exploring texture from fav-icon"
   ]
  },
  {
   "cell_type": "code",
   "execution_count": 72,
   "metadata": {
    "collapsed": true
   },
   "outputs": [],
   "source": [
    "import cv2\n",
    "import numpy as np\n",
    "import matplotlib.pyplot as plt\n",
    "from sklearn.cluster import KMeans\n",
    "\n",
    "def pil_to_cv(pil_image):\n",
    "    im_no_alpha = Image.new(\"RGB\", pil_image.size, (255, 255, 255))\n",
    "    im_no_alpha.paste(pil_image, mask=pil_image.split()[3]) # 3 is the alpha channel\n",
    "    imcv = np.array(im_no_alpha)\n",
    "    return imcv"
   ]
  },
  {
   "cell_type": "code",
   "execution_count": 73,
   "metadata": {
    "collapsed": true,
    "scrolled": false
   },
   "outputs": [],
   "source": [
    "impath = '../data/Flat_icon/hammer/222586.png'\n",
    "# im = Image.open(impath)\n",
    "# imcv = pil_to_cv(im)"
   ]
  },
  {
   "cell_type": "code",
   "execution_count": 74,
   "metadata": {
    "collapsed": true
   },
   "outputs": [],
   "source": [
    "def find_histogram(clt):\n",
    "    \"\"\"\n",
    "    create a histogram with k clusters\n",
    "    :param: clt\n",
    "    :return:hist\n",
    "    \"\"\"\n",
    "    numLabels = np.arange(0, len(np.unique(clt.labels_)) + 1)\n",
    "    (hist, _) = np.histogram(clt.labels_, bins=numLabels)\n",
    "\n",
    "    hist = hist.astype(\"float\")\n",
    "    hist /= hist.sum()\n",
    "\n",
    "    return hist\n",
    "def plot_colors2(hist, centroids):\n",
    "    bar = np.zeros((50, 300, 3), dtype=\"uint8\")\n",
    "    startX = 0\n",
    "\n",
    "    for (percent, color) in zip(hist, centroids):\n",
    "        # plot the relative percentage of each cluster\n",
    "        endX = startX + (percent * 300)\n",
    "        cv2.rectangle(bar, (int(startX), 0), (int(endX), 50),\n",
    "                      color.astype(\"uint8\").tolist(), -1)\n",
    "        startX = endX\n",
    "\n",
    "    # return the bar chart\n",
    "    return bar"
   ]
  },
  {
   "cell_type": "code",
   "execution_count": 75,
   "metadata": {
    "collapsed": true
   },
   "outputs": [],
   "source": [
    "def dominant_colors(impath_texture):\n",
    "    im = Image.open(impath_texture)\n",
    "    img = pil_to_cv(im)\n",
    "    img_r = img.reshape((img.shape[0] * img.shape[1],3)) #represent as row*column,channel number\n",
    "    clt = KMeans(n_clusters=5) #cluster number\n",
    "    clt.fit(img_r)\n",
    "\n",
    "    colors = clt.cluster_centers_\n",
    "\n",
    "    bad = []\n",
    "    for i in range(len(colors)):\n",
    "        color = colors[i]\n",
    "        if color[0] > 245 and color[1] > 245 and color[2] > 245:\n",
    "            bad.append(i)\n",
    "        elif color[0] < 35 and color[1] < 35 and color[2] < 35:\n",
    "            bad.append(i)\n",
    "    \n",
    "    hist = find_histogram(clt)\n",
    "    colors = clt.cluster_centers_\n",
    "\n",
    "    bad = []\n",
    "    for i in range(len(colors)):\n",
    "        color = colors[i]\n",
    "        if color[0] > 245 and color[1] > 245 and color[2] > 245:\n",
    "            bad.append(i)\n",
    "        elif color[0] < 35 and color[1] > 35 and color[2] > 5:\n",
    "            bad.append(i)\n",
    "    hist_new = []\n",
    "    colors_new = []\n",
    "\n",
    "    hist_sum = 0\n",
    "    for i in range(len(hist)):\n",
    "        if i not in bad:\n",
    "            hist_new.append(hist[i])\n",
    "            hist_sum += hist[i]\n",
    "    hist_new = [h/hist_sum for h in hist_new]\n",
    "    for i in range(len(colors)):\n",
    "        if i not in bad:\n",
    "            colors_new.append(colors[i])\n",
    "    bar = plot_colors2(hist_new, colors_new)"
   ]
  },
  {
   "cell_type": "code",
   "execution_count": 76,
   "metadata": {
    "collapsed": true
   },
   "outputs": [],
   "source": [
    "dominant_colors(impath)"
   ]
  },
  {
   "cell_type": "code",
   "execution_count": 77,
   "metadata": {},
   "outputs": [
    {
     "ename": "ValueError",
     "evalue": "cannot reshape array of size 40000 into shape (40000,3)",
     "output_type": "error",
     "traceback": [
      "\u001b[0;31m---------------------------------------------------------------------------\u001b[0m",
      "\u001b[0;31mValueError\u001b[0m                                Traceback (most recent call last)",
      "\u001b[0;32m<ipython-input-77-ca7b834352b2>\u001b[0m in \u001b[0;36m<module>\u001b[0;34m()\u001b[0m\n\u001b[1;32m      2\u001b[0m \u001b[0;31m# img = cv2.cvtColor(img, cv2.COLOR_BGR2RGB)\u001b[0m\u001b[0;34m\u001b[0m\u001b[0;34m\u001b[0m\u001b[0m\n\u001b[1;32m      3\u001b[0m \u001b[0;34m\u001b[0m\u001b[0m\n\u001b[0;32m----> 4\u001b[0;31m \u001b[0mimg_r\u001b[0m \u001b[0;34m=\u001b[0m \u001b[0mimg\u001b[0m\u001b[0;34m.\u001b[0m\u001b[0mreshape\u001b[0m\u001b[0;34m(\u001b[0m\u001b[0;34m(\u001b[0m\u001b[0mimg\u001b[0m\u001b[0;34m.\u001b[0m\u001b[0mshape\u001b[0m\u001b[0;34m[\u001b[0m\u001b[0;36m0\u001b[0m\u001b[0;34m]\u001b[0m \u001b[0;34m*\u001b[0m \u001b[0mimg\u001b[0m\u001b[0;34m.\u001b[0m\u001b[0mshape\u001b[0m\u001b[0;34m[\u001b[0m\u001b[0;36m1\u001b[0m\u001b[0;34m]\u001b[0m\u001b[0;34m,\u001b[0m\u001b[0;36m3\u001b[0m\u001b[0;34m)\u001b[0m\u001b[0;34m)\u001b[0m \u001b[0;31m#represent as row*column,channel number\u001b[0m\u001b[0;34m\u001b[0m\u001b[0m\n\u001b[0m\u001b[1;32m      5\u001b[0m \u001b[0mclt\u001b[0m \u001b[0;34m=\u001b[0m \u001b[0mKMeans\u001b[0m\u001b[0;34m(\u001b[0m\u001b[0mn_clusters\u001b[0m\u001b[0;34m=\u001b[0m\u001b[0;36m5\u001b[0m\u001b[0;34m)\u001b[0m \u001b[0;31m#cluster number\u001b[0m\u001b[0;34m\u001b[0m\u001b[0m\n\u001b[1;32m      6\u001b[0m \u001b[0mclt\u001b[0m\u001b[0;34m.\u001b[0m\u001b[0mfit\u001b[0m\u001b[0;34m(\u001b[0m\u001b[0mimg_r\u001b[0m\u001b[0;34m)\u001b[0m\u001b[0;34m\u001b[0m\u001b[0m\n",
      "\u001b[0;31mValueError\u001b[0m: cannot reshape array of size 40000 into shape (40000,3)"
     ]
    }
   ],
   "source": [
    "img = imcv\n",
    "# img = cv2.cvtColor(img, cv2.COLOR_BGR2RGB)\n",
    "\n",
    "img_r = img.reshape((img.shape[0] * img.shape[1],3)) #represent as row*column,channel number\n",
    "clt = KMeans(n_clusters=5) #cluster number\n",
    "clt.fit(img_r)\n",
    "\n",
    "hist = find_histogram(clt)\n",
    "colors = clt.cluster_centers_\n",
    "\n",
    "bad = []\n",
    "for i in range(len(colors)):\n",
    "    color = colors[i]\n",
    "    if color[0] > 245 and color[1] > 245 and color[2] > 245:\n",
    "        bad.append(i)\n",
    "    elif color[0] < 35 and color[1] > 35 and color[2] > 5:\n",
    "        bad.append(i)\n",
    "hist_new = []\n",
    "colors_new = []\n",
    "\n",
    "hist_sum = 0\n",
    "for i in range(len(hist)):\n",
    "    if i not in bad:\n",
    "        hist_new.append(hist[i])\n",
    "        hist_sum += hist[i]\n",
    "hist_new = [h/hist_sum for h in hist_new]\n",
    "for i in range(len(colors)):\n",
    "    if i not in bad:\n",
    "        colors_new.append(colors[i])\n",
    "bar = plot_colors2(hist_new, colors_new)"
   ]
  },
  {
   "cell_type": "code",
   "execution_count": 25,
   "metadata": {
    "collapsed": true
   },
   "outputs": [],
   "source": [
    "bar = plot_colors2(hist_new, colors_new)"
   ]
  },
  {
   "cell_type": "code",
   "execution_count": 26,
   "metadata": {},
   "outputs": [
    {
     "data": {
      "image/png": "[encoded data removed]",
      "text/plain": [
       "<matplotlib.figure.Figure at 0x1173d6320>"
      ]
     },
     "metadata": {},
     "output_type": "display_data"
    }
   ],
   "source": [
    "show(bar,'a')"
   ]
  },
  {
   "cell_type": "code",
   "execution_count": 23,
   "metadata": {},
   "outputs": [
    {
     "data": {
      "text/plain": [
       "[0.110870361328125,\n",
       " 0.091724395751953125,\n",
       " 0.04421234130859375,\n",
       " 0.0027008056640625]"
      ]
     },
     "execution_count": 23,
     "metadata": {},
     "output_type": "execute_result"
    }
   ],
   "source": [
    "hist_new"
   ]
  },
  {
   "cell_type": "code",
   "execution_count": 191,
   "metadata": {},
   "outputs": [
    {
     "data": {
      "text/plain": [
       "[array([ 193.01720341,  124.173376  ,   62.32655519]),\n",
       " array([ 163.38581826,  170.11540861,  174.88122271]),\n",
       " array([ 158.63943054,   90.62312338,   35.47929249]),\n",
       " array([ 222.11440678,  210.95762712,  200.63559322])]"
      ]
     },
     "execution_count": 191,
     "metadata": {},
     "output_type": "execute_result"
    }
   ],
   "source": [
    "colors_new"
   ]
  },
  {
   "cell_type": "markdown",
   "metadata": {
    "collapsed": true
   },
   "source": [
    "# Exploring actual images"
   ]
  },
  {
   "cell_type": "code",
   "execution_count": 3,
   "metadata": {},
   "outputs": [],
   "source": [
    "import os\n",
    "import matplotlib.pyplot as plt\n",
    "from PIL import Image\n",
    "import numpy as np\n",
    "from matplotlib import cm\n",
    "from scipy import ndimage\n",
    "import sys\n",
    "import scipy\n",
    "from scipy.ndimage.morphology import binary_closing\n",
    "import cv2\n",
    "import cv2\n",
    "import numpy as np\n",
    "import matplotlib.pyplot as plt\n",
    "from sklearn.cluster import KMeans\n",
    "import PIL"
   ]
  },
  {
   "cell_type": "code",
   "execution_count": 39,
   "metadata": {},
   "outputs": [],
   "source": [
    "img_path = '../outputs/actual_images/newImage.png'\n",
    "# img_path = '../data/Icons_clean/bricklayer_hammer/bricklayer%20hammer_1016437.jpg'\n",
    "output_path = False\n",
    "actual = True\n",
    "filled = False"
   ]
  },
  {
   "cell_type": "code",
   "execution_count": 40,
   "metadata": {},
   "outputs": [],
   "source": [
    "if type(img_path) == Image.Image:\n",
    "    im = img_path\n",
    "\n",
    "else:\n",
    "    im = Image.open(img_path).convert('LA').resize((200,200))\n",
    "\n",
    "if filled == True:\n",
    "    imcv = cv2.imread(img_path,-1)[:,:,3]\n",
    "    filled_im = fill_im(imcv)\n",
    "    # cv2_im = cv2.cvtColor(cv_im,cv2.COLOR_BGR2RGB)\n",
    "    im = Image.fromarray(np.uint8(filled_im * 255),'L')\n",
    "    data = np.array(im)\n",
    "    # dat = data[:,:,1]\n",
    "    dat = data\n",
    "else:\n",
    "    if actual == True:\n",
    "        data = np.array(im)\n",
    "        dat_ = data[:,:,0]\n",
    "        dat = util.invert(dat_)\n",
    "    else:\n",
    "        data = np.array(im)\n",
    "        dat = data[:,:,1]"
   ]
  },
  {
   "cell_type": "code",
   "execution_count": 41,
   "metadata": {},
   "outputs": [
    {
     "data": {
      "image/png": "[encoded data removed]",
      "text/plain": [
       "<matplotlib.figure.Figure at 0x1a1d404eb8>"
      ]
     },
     "metadata": {},
     "output_type": "display_data"
    }
   ],
   "source": [
    "plt.imshow(dat)\n",
    "plt.show()"
   ]
  },
  {
   "cell_type": "code",
   "execution_count": 42,
   "metadata": {},
   "outputs": [
    {
     "data": {
      "text/plain": [
       "array([[255, 255, 255, ..., 255, 255, 255],\n",
       "       [255, 255, 255, ..., 255, 255, 255],\n",
       "       [255, 255, 255, ..., 255, 255, 255],\n",
       "       ...,\n",
       "       [255, 255, 255, ..., 255, 255, 255],\n",
       "       [255, 255, 255, ..., 255, 255, 255],\n",
       "       [255, 255, 255, ..., 255, 255, 255]], dtype=uint8)"
      ]
     },
     "execution_count": 42,
     "metadata": {},
     "output_type": "execute_result"
    }
   ],
   "source": [
    "dat"
   ]
  },
  {
   "cell_type": "code",
   "execution_count": 22,
   "metadata": {},
   "outputs": [],
   "source": [
    "#Convert into binary image\n",
    "for i in range(200):\n",
    "    for j in range(200):\n",
    "        if dat[i][j]>0:\n",
    "            dat[i][j] = 1"
   ]
  },
  {
   "cell_type": "code",
   "execution_count": 23,
   "metadata": {},
   "outputs": [
    {
     "data": {
      "image/png": "[encoded data removed]",
      "text/plain": [
       "<matplotlib.figure.Figure at 0x1a1d0ed048>"
      ]
     },
     "metadata": {},
     "output_type": "display_data"
    }
   ],
   "source": [
    "plt.imshow(dat)\n",
    "plt.show()"
   ]
  },
  {
   "cell_type": "code",
   "execution_count": null,
   "metadata": {},
   "outputs": [],
   "source": [
    "# Measure total nonzero points\n",
    "point_ct = 0\n",
    "for i in range(200):\n",
    "    for j in range(200):\n",
    "        if dat[i][j]>0:\n",
    "            point_ct += 1\n",
    "\n",
    "# Store non zero point locations into numpy array\n",
    "points = np.zeros((point_ct,2))\n",
    "point_ct = 0\n",
    "for i in range(200):\n",
    "    for j in range(200):\n",
    "        if dat[i][j]>0:\n",
    "            points[point_ct][0] = j\n",
    "            points[point_ct][1] = i\n",
    "            point_ct += 1\n",
    "\n",
    "y,x = points[:,0],points[:,1]\n",
    "scale_size = max(y) - min(y)\n",
    "\n",
    "# Normalize coordinates and calculate eigenvectors of covariance matrix\n",
    "\n",
    "x = x - np.mean(x)\n",
    "y = y - np.mean(y)\n",
    "coords = np.vstack([x, y])\n",
    "cov = np.cov(coords)\n",
    "evals, evecs = np.linalg.eig(cov)\n",
    "\n",
    "\n",
    "# Get principal components using eigenvalues\n",
    "sort_indices = np.argsort(evals)[::-1]\n",
    "evec1, evec2 = evecs[:, sort_indices]\n",
    "x_v1, y_v1 = evec1  # Eigenvector with largest eigenvalue\n",
    "x_v2, y_v2 = evec2\n",
    "\n",
    "# Get slopes of the two principal axes\n",
    "slope = y_v1/x_v1\n",
    "m1 = slope\n",
    "m2 = -1/m1\n",
    "\n",
    "# Get center of mass of image\n",
    "blobs = dat > 0\n",
    "labels, nlabels = ndimage.label(blobs)\n",
    "# find the center of mass of each label\n",
    "t = ndimage.center_of_mass(dat, labels, np.arange(nlabels) + 1 )\n",
    "# calc sum of each label, this gives the number of pixels belonging to the blob\n",
    "s = ndimage.sum(blobs, labels,  np.arange(nlabels) + 1 )\n",
    "# notation of output (y,x)\n",
    "cty,ctx = t[s.argmax()]\n",
    "\n",
    "# Split image based on axis\n",
    "data_total = np.array(im)\n",
    "if len(data_total.shape) > 2:\n",
    "    img_data = data_total[:,:,1]\n",
    "else:\n",
    "    img_data = data_total\n",
    "imdat = Image.fromarray(img_data)\n",
    "\n",
    "dat1 = np.zeros((200,200))\n",
    "dat2 = np.zeros((200,200))\n",
    "dat3 = np.zeros((200,200))\n",
    "dat4 = np.zeros((200,200))\n",
    "# dataa = img\n",
    "for i in range(200):\n",
    "    for j in range(200):\n",
    "        y = i\n",
    "        x = j\n",
    "        val = img_data[i][j]\n",
    "        eqn1 = y+m1*ctx-m1*x-cty\n",
    "        eqn2 = y+m2*ctx-m2*x-cty\n",
    "        if eqn1 > 0:\n",
    "            dat1[i][j] = val\n",
    "        else:\n",
    "            dat2[i][j] = val\n",
    "\n",
    "        if eqn2 > 0:\n",
    "            dat3[i][j] = val\n",
    "        else:\n",
    "            dat4[i][j] = val\n",
    "\n",
    "\n",
    "# In[156]:\n",
    "\n",
    "\n",
    "im1 = Image.fromarray(dat1)\n",
    "im2 = Image.fromarray(dat2)\n",
    "im3 = Image.fromarray(dat3)\n",
    "im4 = Image.fromarray(dat4)\n",
    "\n",
    "if im1.mode != 'RGB':\n",
    "    im1 = im1.convert('RGB')\n",
    "if im2.mode != 'RGB':\n",
    "    im2 = im2.convert('RGB')\n",
    "if im3.mode != 'RGB':\n",
    "    im3 = im3.convert('RGB')\n",
    "if im4.mode != 'RGB':\n",
    "    im4 = im4.convert('RGB')\n",
    "\n",
    "sum1 = sum(sum(dat1))\n",
    "sum2 = sum(sum(dat2))\n",
    "sum3 = sum(sum(dat3))\n",
    "sum4 = sum(sum(dat4))\n",
    "diff1 = abs(sum1-sum2)\n",
    "diff2 = abs(sum3-sum4)\n",
    "\n",
    "if diff2 < diff1:\n",
    "    axis = 1\n",
    "    part_1 = im1\n",
    "    part_2 = im2\n",
    "else:\n",
    "    axis = 2\n",
    "    part_1 = im3\n",
    "    part_2 = im4\n",
    "\n",
    "for im_m in [im1,im2,im3,im4]:\n",
    "    if im_m.mode != 'RGB':\n",
    "        im_m = im_m.convert('RGB')\n",
    "\n",
    "dat5 = np.zeros((200,200))\n",
    "dat6 = np.zeros((200,200))\n",
    "dat7 = np.zeros((200,200))\n",
    "dat8 = np.zeros((200,200))\n",
    "dat9 = np.zeros((200,200))\n",
    "dat10 = np.zeros((200,200))\n",
    "\n",
    "if axis == 1:\n",
    "    slope_correct = m1\n",
    "    slope_other = m2\n",
    "else:\n",
    "    slope_correct = m2\n",
    "    slope_other = m1\n",
    "# dataa = img\n",
    "for i in range(200):\n",
    "    for j in range(200):\n",
    "        y = i\n",
    "        x = j\n",
    "        val = img_data[i][j]\n",
    "        A = scale_size/10\n",
    "        B = scale_size/5\n",
    "        C = -scale_size/10\n",
    "        eqn3 = y+slope_correct*(ctx+A)-slope_correct*x-(cty+slope_other*A)\n",
    "        eqn4 = y+slope_correct*(ctx+B)-slope_correct*x-(cty+slope_other*B)\n",
    "        eqn5 = y+slope_correct*(ctx+C)-slope_correct*x-(cty+slope_other*C)\n",
    "\n",
    "        if eqn3 > 0:\n",
    "            dat5[i][j] = val\n",
    "        else:\n",
    "            dat6[i][j] = val\n",
    "\n",
    "        if eqn4 > 0:\n",
    "            dat7[i][j] = val\n",
    "        else:\n",
    "            dat8[i][j] = val\n",
    "\n",
    "        if eqn5 > 0:\n",
    "            dat9[i][j] = val\n",
    "        else:\n",
    "            dat10[i][j] = val\n",
    "\n",
    "part_5 = Image.fromarray(dat5).convert('RGB')\n",
    "part_6 = Image.fromarray(dat6).convert('RGB')\n",
    "part_7 = Image.fromarray(dat7).convert('RGB')\n",
    "part_8 = Image.fromarray(dat8).convert('RGB')\n",
    "part_9 = Image.fromarray(dat9).convert('RGB')\n",
    "part_10 = Image.fromarray(dat10).convert('RGB')"
   ]
  }
 ],
 "metadata": {
  "kernelspec": {
   "display_name": "Python 3",
   "language": "python",
   "name": "python3"
  },
  "language_info": {
   "codemirror_mode": {
    "name": "ipython",
    "version": 3
   },
   "file_extension": ".py",
   "mimetype": "text/x-python",
   "name": "python",
   "nbconvert_exporter": "python",
   "pygments_lexer": "ipython3",
   "version": "3.6.4"
  }
 },
 "nbformat": 4,
 "nbformat_minor": 2
}
