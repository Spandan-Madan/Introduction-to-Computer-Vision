{
 "cells": [
  {
   "cell_type": "code",
   "execution_count": 5,
   "metadata": {
    "collapsed": true
   },
   "outputs": [],
   "source": [
    "import sys\n",
    "sys.path.append('../scripts/')\n",
    "from icon_helper_functions import *\n",
    "from SVG_icon_style_transfer_module import *\n",
    "from Image_to_Parts_SVG_module import *"
   ]
  },
  {
   "cell_type": "code",
   "execution_count": 15,
   "metadata": {
    "collapsed": true
   },
   "outputs": [],
   "source": [
    "tool_name = 'hammer'\n",
    "def parse_and_stylize_hammer_image(impath,):\n",
    "    hammer_id = hammer.split('.')[0].split('_')[1]\n",
    "    print('Working on Tool #%s'%hammer_id)\n",
    "    texture_impath = '../data/Flat_icon/hammer/222586.png'\n",
    "    SAVE_PATH = '../outputs/clear_hammer_SVGs/%s.svg'%hammer_id\n",
    "    SAVE_PATH_STYLED = '../outputs/stylized_hammer_SVGs/%s.svg'%hammer_id\n",
    "    im_to_svg(impath,SAVE_PATH)\n",
    "    apply_style(texture_impath,SAVE_PATH,SAVE_PATH_STYLED,'hammer')"
   ]
  },
  {
   "cell_type": "code",
   "execution_count": 14,
   "metadata": {},
   "outputs": [
    {
     "name": "stdout",
     "output_type": "stream",
     "text": [
      "Working on Hammer #1016437\n",
      "Working on Hammer #1020861\n",
      "Working on Hammer #1038881\n",
      "Working on Hammer #1039651\n",
      "Working on Hammer #1042160\n",
      "Working on Hammer #1057329\n",
      "Working on Hammer #106008\n",
      "Working on Hammer #1117273\n",
      "Working on Hammer #1117280\n",
      "Working on Hammer #1125477\n",
      "Working on Hammer #1153669\n",
      "Working on Hammer #1195756\n",
      "Working on Hammer #1205594\n",
      "Working on Hammer #1213322\n",
      "Working on Hammer #1221712\n",
      "Working on Hammer #1226653\n",
      "Working on Hammer #1233693\n",
      "Working on Hammer #124326\n",
      "Working on Hammer #1291011\n",
      "Working on Hammer #1291013\n",
      "Working on Hammer #1291014\n",
      "Working on Hammer #1291015\n",
      "Working on Hammer #1291016\n",
      "Working on Hammer #1291017\n",
      "Working on Hammer #1291018\n",
      "Working on Hammer #1291019\n",
      "Working on Hammer #1291020\n",
      "Working on Hammer #1291021\n",
      "Working on Hammer #1291022\n",
      "Working on Hammer #1291023\n",
      "Working on Hammer #1291024\n",
      "Working on Hammer #1291025\n",
      "Working on Hammer #1291026\n",
      "Working on Hammer #1291027\n",
      "Working on Hammer #1291028\n",
      "Working on Hammer #1291029\n",
      "Working on Hammer #1291046\n",
      "Working on Hammer #1308364\n",
      "Working on Hammer #1315349\n",
      "Working on Hammer #1321777\n",
      "Working on Hammer #1359885\n",
      "Working on Hammer #1359887\n",
      "Working on Hammer #1359888\n",
      "Working on Hammer #1359890\n",
      "Working on Hammer #1359891\n",
      "Working on Hammer #1359892\n",
      "Working on Hammer #1359919\n",
      "Working on Hammer #1359921\n",
      "Working on Hammer #1360623\n",
      "Working on Hammer #1360624\n",
      "Working on Hammer #1360627\n",
      "Working on Hammer #1360652\n",
      "Working on Hammer #1360653\n",
      "Working on Hammer #1360655\n",
      "Working on Hammer #1360656\n",
      "Working on Hammer #1360663\n",
      "Working on Hammer #1364735\n",
      "Working on Hammer #1372237\n",
      "Working on Hammer #1372238\n",
      "Working on Hammer #1372239\n",
      "Working on Hammer #1372240\n",
      "Working on Hammer #1372241\n",
      "Working on Hammer #1372242\n",
      "Working on Hammer #1372243\n",
      "Working on Hammer #1372244\n",
      "Working on Hammer #1372245\n",
      "Working on Hammer #1373183\n",
      "Working on Hammer #1373238\n",
      "Working on Hammer #1388487\n"
     ]
    },
    {
     "ename": "KeyboardInterrupt",
     "evalue": "",
     "output_type": "error",
     "traceback": [
      "\u001b[0;31m---------------------------------------------------------------------------\u001b[0m",
      "\u001b[0;31mKeyboardInterrupt\u001b[0m                         Traceback (most recent call last)",
      "\u001b[0;32m<ipython-input-14-565c7a2d35ab>\u001b[0m in \u001b[0;36m<module>\u001b[0;34m()\u001b[0m\n\u001b[1;32m      5\u001b[0m         \u001b[0;32mpass\u001b[0m\u001b[0;34m\u001b[0m\u001b[0m\n\u001b[1;32m      6\u001b[0m     \u001b[0;32melse\u001b[0m\u001b[0;34m:\u001b[0m\u001b[0;34m\u001b[0m\u001b[0m\n\u001b[0;32m----> 7\u001b[0;31m         \u001b[0mparse_and_stylize_hammer_image\u001b[0m\u001b[0;34m(\u001b[0m\u001b[0mhammer\u001b[0m\u001b[0;34m)\u001b[0m\u001b[0;34m\u001b[0m\u001b[0m\n\u001b[0m",
      "\u001b[0;32m<ipython-input-13-691444bcd6b4>\u001b[0m in \u001b[0;36mparse_and_stylize_hammer_image\u001b[0;34m(impath)\u001b[0m\n\u001b[1;32m      7\u001b[0m     \u001b[0mSAVE_PATH_STYLED\u001b[0m \u001b[0;34m=\u001b[0m \u001b[0;34m'../outputs/hammer_%s_styled.svg'\u001b[0m\u001b[0;34m%\u001b[0m\u001b[0mhammer_id\u001b[0m\u001b[0;34m\u001b[0m\u001b[0m\n\u001b[1;32m      8\u001b[0m     \u001b[0mim_to_svg\u001b[0m\u001b[0;34m(\u001b[0m\u001b[0mimpath\u001b[0m\u001b[0;34m,\u001b[0m\u001b[0mSAVE_PATH\u001b[0m\u001b[0;34m)\u001b[0m\u001b[0;34m\u001b[0m\u001b[0m\n\u001b[0;32m----> 9\u001b[0;31m     \u001b[0mapply_style\u001b[0m\u001b[0;34m(\u001b[0m\u001b[0mtexture_impath\u001b[0m\u001b[0;34m,\u001b[0m\u001b[0mSAVE_PATH\u001b[0m\u001b[0;34m,\u001b[0m\u001b[0mSAVE_PATH_STYLED\u001b[0m\u001b[0;34m,\u001b[0m\u001b[0;34m'hammer'\u001b[0m\u001b[0;34m)\u001b[0m\u001b[0;34m\u001b[0m\u001b[0m\n\u001b[0m",
      "\u001b[0;32m/Users/spandanmadan/Desktop/NIPS/Tools_Project/scripts/SVG_icon_style_transfer_module.py\u001b[0m in \u001b[0;36mapply_style\u001b[0;34m(texture_impath, SVG_path, SVG_stylized_path, tool_name)\u001b[0m\n\u001b[1;32m     47\u001b[0m     \u001b[0mtexture_im\u001b[0m \u001b[0;34m=\u001b[0m \u001b[0mImage\u001b[0m\u001b[0;34m.\u001b[0m\u001b[0mopen\u001b[0m\u001b[0;34m(\u001b[0m\u001b[0mtexture_impath\u001b[0m\u001b[0;34m)\u001b[0m\u001b[0;34m.\u001b[0m\u001b[0mresize\u001b[0m\u001b[0;34m(\u001b[0m\u001b[0;34m(\u001b[0m\u001b[0;36m200\u001b[0m\u001b[0;34m,\u001b[0m\u001b[0;36m200\u001b[0m\u001b[0;34m)\u001b[0m\u001b[0;34m)\u001b[0m\u001b[0;34m\u001b[0m\u001b[0m\n\u001b[1;32m     48\u001b[0m     \u001b[0mimcv\u001b[0m \u001b[0;34m=\u001b[0m \u001b[0mpil_to_cv\u001b[0m\u001b[0;34m(\u001b[0m\u001b[0mtexture_im\u001b[0m\u001b[0;34m)\u001b[0m\u001b[0;34m\u001b[0m\u001b[0m\n\u001b[0;32m---> 49\u001b[0;31m     \u001b[0mparts\u001b[0m \u001b[0;34m=\u001b[0m \u001b[0mimage_splitter\u001b[0m\u001b[0;34m(\u001b[0m\u001b[0mtexture_im\u001b[0m\u001b[0;34m)\u001b[0m\u001b[0;34m\u001b[0m\u001b[0m\n\u001b[0m\u001b[1;32m     50\u001b[0m \u001b[0;34m\u001b[0m\u001b[0m\n\u001b[1;32m     51\u001b[0m \u001b[0;34m\u001b[0m\u001b[0m\n",
      "\u001b[0;32m/Users/spandanmadan/Desktop/NIPS/Tools_Project/scripts/icon_helper_functions.py\u001b[0m in \u001b[0;36mimage_splitter\u001b[0;34m(img_path, output_path, filled)\u001b[0m\n\u001b[1;32m    229\u001b[0m                                 \u001b[0mdat6\u001b[0m\u001b[0;34m[\u001b[0m\u001b[0mi\u001b[0m\u001b[0;34m]\u001b[0m\u001b[0;34m[\u001b[0m\u001b[0mj\u001b[0m\u001b[0;34m]\u001b[0m \u001b[0;34m=\u001b[0m \u001b[0mval\u001b[0m\u001b[0;34m\u001b[0m\u001b[0m\n\u001b[1;32m    230\u001b[0m \u001b[0;34m\u001b[0m\u001b[0m\n\u001b[0;32m--> 231\u001b[0;31m                         \u001b[0;32mif\u001b[0m \u001b[0meqn4\u001b[0m \u001b[0;34m>\u001b[0m \u001b[0;36m0\u001b[0m\u001b[0;34m:\u001b[0m\u001b[0;34m\u001b[0m\u001b[0m\n\u001b[0m\u001b[1;32m    232\u001b[0m                                 \u001b[0mdat7\u001b[0m\u001b[0;34m[\u001b[0m\u001b[0mi\u001b[0m\u001b[0;34m]\u001b[0m\u001b[0;34m[\u001b[0m\u001b[0mj\u001b[0m\u001b[0;34m]\u001b[0m \u001b[0;34m=\u001b[0m \u001b[0mval\u001b[0m\u001b[0;34m\u001b[0m\u001b[0m\n\u001b[1;32m    233\u001b[0m                         \u001b[0;32melse\u001b[0m\u001b[0;34m:\u001b[0m\u001b[0;34m\u001b[0m\u001b[0m\n",
      "\u001b[0;31mKeyboardInterrupt\u001b[0m: "
     ]
    }
   ],
   "source": [
    "base_path = '../data/Icons_clean/bricklayer_hammer/'\n",
    "all_hammers = os.listdir(base_path)\n",
    "for hammer in all_hammers:\n",
    "    if hammer.startswith('.'):\n",
    "        pass\n",
    "    else:\n",
    "        impath = base_path + hammer\n",
    "        parse_and_stylize_hammer_image(hammer)"
   ]
  },
  {
   "cell_type": "code",
   "execution_count": null,
   "metadata": {
    "collapsed": true
   },
   "outputs": [],
   "source": []
  }
 ],
 "metadata": {
  "kernelspec": {
   "display_name": "Python 3",
   "language": "python",
   "name": "python3"
  },
  "language_info": {
   "codemirror_mode": {
    "name": "ipython",
    "version": 3
   },
   "file_extension": ".py",
   "mimetype": "text/x-python",
   "name": "python",
   "nbconvert_exporter": "python",
   "pygments_lexer": "ipython3",
   "version": "3.6.1"
  }
 },
 "nbformat": 4,
 "nbformat_minor": 2
}
