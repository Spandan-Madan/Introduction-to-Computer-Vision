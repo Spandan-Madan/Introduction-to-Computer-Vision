{
 "cells": [
  {
   "cell_type": "code",
   "execution_count": 1,
   "metadata": {},
   "outputs": [],
   "source": [
    "from shapely.geometry.polygon import LinearRing, Polygon\n",
    "from descartes import PolygonPatch\n",
    "from matplotlib import pyplot as plt\n",
    "from shapely.geometry.polygon import Polygon"
   ]
  },
  {
   "cell_type": "code",
   "execution_count": 2,
   "metadata": {},
   "outputs": [],
   "source": [
    "import os\n",
    "import cv2\n",
    "import matplotlib.pyplot as plt\n",
    "from PIL import Image\n",
    "import numpy as np\n",
    "import sys\n",
    "sys.path.append('../scripts/')\n",
    "import cv2\n",
    "import matplotlib.patches as patches\n",
    "import math\n",
    "import scipy\n",
    "from scipy.ndimage.morphology import binary_closing\n",
    "from scipy import ndimage\n",
    "from IPython.display import SVG \n",
    "from IPython.display import Pretty \n",
    "import pprint\n",
    "import cv2\n",
    "import numpy as np\n",
    "import matplotlib.pyplot as plt\n",
    "from sklearn.cluster import KMeans"
   ]
  },
  {
   "cell_type": "code",
   "execution_count": 3,
   "metadata": {},
   "outputs": [],
   "source": [
    "from icon_helper_functions import *"
   ]
  },
  {
   "cell_type": "code",
   "execution_count": 4,
   "metadata": {},
   "outputs": [],
   "source": [
    "from IPython.display import SVG"
   ]
  },
  {
   "cell_type": "code",
   "execution_count": 5,
   "metadata": {},
   "outputs": [],
   "source": [
    "from collections import Counter\n",
    "from itertools import groupby\n",
    "from scipy.stats import norm\n",
    "from scipy.stats import t\n",
    "import math\n",
    "from planar import Polygon as planar_polygon\n",
    "from scipy.integrate import quad\n",
    "import warnings\n",
    "from functools import partial\n",
    "if not sys.warnoptions:\n",
    "    warnings.simplefilter(\"ignore\")"
   ]
  },
  {
   "cell_type": "markdown",
   "metadata": {},
   "source": [
    "# Reading polygon information"
   ]
  },
  {
   "cell_type": "code",
   "execution_count": 6,
   "metadata": {},
   "outputs": [],
   "source": [
    "first_polygons = []\n",
    "second_polygons = []\n",
    "file_list = []\n",
    "SVGs_path = '../outputs/clear_bricklayer_hammer_SVGs/'\n",
    "all_svgs = os.listdir(SVGs_path)\n",
    "for i in range(len(all_svgs)):\n",
    "    curr_svg = all_svgs[i]\n",
    "    if curr_svg.startswith('.'):\n",
    "        pass\n",
    "    else:\n",
    "        curr_svg_path = SVGs_path + curr_svg\n",
    "        file_list.append(curr_svg_path)\n",
    "        f = open(curr_svg_path,'r')\n",
    "        content = f.readlines()\n",
    "        f.close()\n",
    "        polygon_ct = 0\n",
    "        for c in content:\n",
    "            c = c.rstrip()\n",
    "            if c.startswith('<polygon'):\n",
    "                points = c.split('=\"')[1].split('\"')[0].split(' ')\n",
    "                tup_points = []\n",
    "                for point in points:\n",
    "                    x,y = point.split(',')\n",
    "                    tup = (int(x),200-int(y))\n",
    "                    tup_points.append(tup)\n",
    "                if polygon_ct == 0:\n",
    "                    first_polygons.append(tup_points)\n",
    "                elif polygon_ct == 1:\n",
    "                    second_polygons.append(tup_points)\n",
    "                else:\n",
    "                    print('More than 2 polygons detected!')\n",
    "                polygon_ct += 1"
   ]
  },
  {
   "cell_type": "code",
   "execution_count": 35,
   "metadata": {},
   "outputs": [],
   "source": [
    "def plot_svg(polygons):\n",
    "    fig = plt.figure(1, figsize=(5,5), dpi=90)\n",
    "    ax = fig.add_subplot(111)\n",
    "    for polygon in polygons:\n",
    "        ring_mixed = Polygon(polygon)\n",
    "        ring_patch = PolygonPatch(ring_mixed)\n",
    "        ax.add_patch(ring_patch)\n",
    "        for (x,y) in polygon:\n",
    "            ax.plot(x,y,'ro')\n",
    "            ax.annotate('(%s,%s)'%(x,y), xy=(x, y), xytext=(x, y))\n",
    "    xrange = [0, 200]\n",
    "    yrange = [0, 200]\n",
    "    ax.set_xlim(*xrange)\n",
    "    ax.set_ylim(*yrange)\n",
    "    ax.set_aspect(1)"
   ]
  },
  {
   "cell_type": "code",
   "execution_count": 36,
   "metadata": {},
   "outputs": [],
   "source": [
    "def plot_svg_big(polygons):\n",
    "    fig = plt.figure(1, figsize=(10,10), dpi=90)\n",
    "    ax = fig.add_subplot(111)\n",
    "    for polygon in polygons:\n",
    "        ring_mixed = Polygon(polygon)\n",
    "        ring_patch = PolygonPatch(ring_mixed)\n",
    "        ax.add_patch(ring_patch)\n",
    "        for (x,y) in polygon:\n",
    "            ax.plot(x,y,'ro')\n",
    "            ax.annotate('(%s,%s)'%(x,y), xy=(x, y), xytext=(x, y))\n",
    "    xrange = [-250, 250]\n",
    "    yrange = [-250, 250]\n",
    "    ax.set_xlim(*xrange)\n",
    "    ax.set_ylim(*yrange)\n",
    "    ax.set_aspect(1)"
   ]
  },
  {
   "cell_type": "markdown",
   "metadata": {},
   "source": [
    "# Lets look at a random polygon"
   ]
  },
  {
   "cell_type": "code",
   "execution_count": 37,
   "metadata": {},
   "outputs": [
    {
     "name": "stdout",
     "output_type": "stream",
     "text": [
      "[(28, 136), (44, 168), (60, 183), (75, 190), (112, 192), (126, 184), (134, 189), (160, 189), (170, 180), (168, 138), (163, 134), (133, 134), (126, 138), (122, 121), (82, 124), (81, 141), (72, 149), (52, 144), (38, 131), (32, 131)]\n"
     ]
    },
    {
     "data": {
      "image/png": "[encoded data removed]",
      "text/plain": [
       "<matplotlib.figure.Figure at 0x1a205e9588>"
      ]
     },
     "metadata": {},
     "output_type": "display_data"
    }
   ],
   "source": [
    "ID = 25\n",
    "plot_svg([second_polygons[ID]])\n",
    "print(second_polygons[ID])"
   ]
  },
  {
   "cell_type": "markdown",
   "metadata": {},
   "source": [
    "# Picking instances of polygons that occur enough"
   ]
  },
  {
   "cell_type": "code",
   "execution_count": 38,
   "metadata": {},
   "outputs": [],
   "source": [
    "sides_to_polygons = {}\n",
    "for polygon in second_polygons:\n",
    "    (x0,y0) = polygon[0]\n",
    "#     translated_polygon = [(x-x0,y-y0) for (x,y) in polygon]\n",
    "    translated_polygon = polygon\n",
    "    if len(polygon) in sides_to_polygons.keys():\n",
    "        sides_to_polygons[len(polygon)].append(translated_polygon)\n",
    "    else:\n",
    "        sides_to_polygons[len(polygon)] = [translated_polygon]"
   ]
  },
  {
   "cell_type": "code",
   "execution_count": 39,
   "metadata": {},
   "outputs": [],
   "source": [
    "retained_polygon_dict = {}\n",
    "for side_length in sides_to_polygons.keys():\n",
    "    num_polygons = len(sides_to_polygons[side_length])\n",
    "    fraction = num_polygons/float(len(second_polygons))\n",
    "    if  fraction < 0.075:\n",
    "        pass\n",
    "    else:\n",
    "        retained_polygon_dict[side_length] = sides_to_polygons[side_length]"
   ]
  },
  {
   "cell_type": "code",
   "execution_count": 40,
   "metadata": {},
   "outputs": [
    {
     "name": "stdout",
     "output_type": "stream",
     "text": [
      "Number of instances with 8 sides: 8\n",
      "Number of instances with 22 sides: 8\n",
      "Number of instances with 20 sides: 11\n",
      "Number of instances with 15 sides: 9\n"
     ]
    }
   ],
   "source": [
    "for key,value in retained_polygon_dict.items():\n",
    "    print(\"Number of instances with %s sides: %s\"%(key,len(value)))"
   ]
  },
  {
   "cell_type": "markdown",
   "metadata": {},
   "source": [
    "# Sampling the number of sides of the polygon"
   ]
  },
  {
   "cell_type": "code",
   "execution_count": 41,
   "metadata": {},
   "outputs": [],
   "source": [
    "# Binary search to find optimal insert index in a sorted array (used later during sampling)\n",
    "def index(seq, item):\n",
    "    \"\"\"Returns the index of an item in an increasingly-sorted\n",
    "       sequence (if exists) otherwise returns the index where\n",
    "       it would be inserted, using binary search.\n",
    "\n",
    "       seq: a sequence.\n",
    "\n",
    "       precondition: seq is sorted increasingly.\n",
    "       \"\"\"\n",
    "    # Updates the sequence with the item using a\n",
    "    # set to avoid duplicates.\n",
    "    seq = set(seq)\n",
    "    seq.update([item])\n",
    "\n",
    "    # Converts the sequence to a list and re-sorts it. \n",
    "    sorted_seq = sorted(seq)\n",
    "\n",
    "    middle = len(sorted_seq) // 2\n",
    "    middle_value = sorted_seq[middle]\n",
    "\n",
    "    first_half = sorted_seq[:middle]\n",
    "    second_half = sorted_seq[middle:]\n",
    "\n",
    "    if item == middle_value:\n",
    "        return middle\n",
    "\n",
    "    elif item < middle_value:\n",
    "        return index(first_half, item)\n",
    "\n",
    "    elif item > middle_value:\n",
    "        return index(second_half, item) + len(first_half)"
   ]
  },
  {
   "cell_type": "code",
   "execution_count": 42,
   "metadata": {},
   "outputs": [],
   "source": [
    "def num_sides_sampler(polygon_dict):\n",
    "    sides = []\n",
    "    freqs = []\n",
    "    \n",
    "    total = 0\n",
    "    for key,value in retained_polygon_dict.items():\n",
    "        sides.append(key)\n",
    "        freqs.append(len(value))\n",
    "        total += len(value)\n",
    "    \n",
    "    probs = [x/float(total) for x in freqs]\n",
    "    \n",
    "    cum_probs = []\n",
    "    cum_prob = 0\n",
    "    for prob in probs:\n",
    "        cum_prob += prob\n",
    "        cum_probs.append(cum_prob)\n",
    "    np.random.seed(5)\n",
    "    rand_num = np.random.uniform(0,1)\n",
    "    rand_index = index(cum_probs,rand_num)\n",
    "    sampled_side = sides[rand_index]\n",
    "    return sampled_side"
   ]
  },
  {
   "cell_type": "code",
   "execution_count": 43,
   "metadata": {},
   "outputs": [
    {
     "name": "stdout",
     "output_type": "stream",
     "text": [
      "Sampled sides -  8\n"
     ]
    }
   ],
   "source": [
    "sampled_sides = num_sides_sampler(retained_polygon_dict)\n",
    "print('Sampled sides - ',sampled_sides)"
   ]
  },
  {
   "cell_type": "markdown",
   "metadata": {},
   "source": [
    "# Let's look at 8 sided polygons for now"
   ]
  },
  {
   "cell_type": "code",
   "execution_count": 44,
   "metadata": {},
   "outputs": [],
   "source": [
    "eight_sided_polygons = retained_polygon_dict[8]"
   ]
  },
  {
   "cell_type": "code",
   "execution_count": 53,
   "metadata": {
    "scrolled": false
   },
   "outputs": [],
   "source": [
    "# # Visualizing eight sided polygons\n",
    "# f, ax = plt.subplots(3, sharex=False, sharey=False)\n",
    "# # ct = 0\n",
    "# # for ax in axarr:\n",
    "# #     polygon = eight_sided_polygons[ct]\n",
    "# #     ring_mixed = Polygon(polygon)\n",
    "# #     ring_patch = PolygonPatch(ring_mixed)\n",
    "# #     ax.add_patch(ring_patch)\n",
    "# # # ct = 0\n",
    "# for row in ax:\n",
    "#     for col in row:\n",
    "#         plot_svg([eight_sided_polygons[ct]])\n",
    "#         plt.axis('off')\n",
    "#         plt.show()\n",
    "#         ct += 1"
   ]
  },
  {
   "cell_type": "code",
   "execution_count": 54,
   "metadata": {},
   "outputs": [],
   "source": [
    "def side_len(p2,p1):\n",
    "    return ((p1[0]-p2[0])**2 + (p1[1]-p2[1])**2)**0.5\n",
    "\n",
    "#newest_version\n",
    "def side_angle(pt1,pt2):\n",
    "    \"\"\" Returns the angle in radians between vectors 'v1' and 'v2'    \"\"\"\n",
    "    angle = np.arctan2(pt2[1] - pt1[1], pt2[0] - pt1[0])\n",
    "    angle = (angle + 2*math.pi) % 2*math.pi\n",
    "    return angle\n",
    "\n",
    "# new version\n",
    "# def side_angle(p2,p1):\n",
    "#     if p2[0] == p1[0]:\n",
    "#         if p2[1] > p1[1]:\n",
    "#             angle = math.radians(90)\n",
    "#         elif p2[1] < p1[1]:\n",
    "#             angle = math.radians(270)\n",
    "    \n",
    "#     else:\n",
    "#         slope = (p2[1]-p1[1])/(p2[0]-p1[0])\n",
    "#         angle = math.atan(slope)\n",
    "#         if angle <= 0:\n",
    "#             angle += 2*math.pi\n",
    "#     return angle\n",
    "# side_angle(pol0[0],pol0[1])"
   ]
  },
  {
   "cell_type": "markdown",
   "metadata": {},
   "source": [
    "# Basic approach sampling each side and angle as a gaussian\n",
    "### UPDATE: Didn't work. Working on better one now."
   ]
  },
  {
   "cell_type": "code",
   "execution_count": 55,
   "metadata": {},
   "outputs": [],
   "source": [
    "# Storing frequency counts for lengths and angles of the polygons"
   ]
  },
  {
   "cell_type": "code",
   "execution_count": 56,
   "metadata": {},
   "outputs": [],
   "source": [
    "lens = {}\n",
    "angles = {}\n",
    "for polygon in eight_sided_polygons:\n",
    "    for side_ct in range(len(polygon)-1):\n",
    "        next_pt = polygon[side_ct + 1]\n",
    "        curr_pt = polygon[side_ct]\n",
    "        length = side_len(next_pt,curr_pt)\n",
    "        angle = side_angle(next_pt,curr_pt)\n",
    "        \n",
    "        if side_ct in lens.keys():\n",
    "            lens[side_ct].append(length)\n",
    "            angles[side_ct].append(angle)\n",
    "        else:\n",
    "            lens[side_ct] = [length]\n",
    "            angles[side_ct] = [angle]"
   ]
  },
  {
   "cell_type": "code",
   "execution_count": 57,
   "metadata": {},
   "outputs": [],
   "source": [
    "# Fitting distributions: right now, fitting normal dist to each side and angle."
   ]
  },
  {
   "cell_type": "code",
   "execution_count": 58,
   "metadata": {},
   "outputs": [],
   "source": [
    "mu_lengths = {}\n",
    "std_lengths = {}\n",
    "mu_angles = {}\n",
    "std_angles = {}\n",
    "for side_ct in lens.keys():\n",
    "    # For side lengths\n",
    "    lengths = lens[side_ct]\n",
    "    mu_len, std_len = norm.fit(lengths)\n",
    "    mu_lengths[side_ct] = mu_len\n",
    "    std_lengths[side_ct] = std_len\n",
    "    \n",
    "    # For side angles\n",
    "    angle = angles[side_ct]\n",
    "    mu_ang, std_ang = norm.fit(angle)\n",
    "    mu_angles[side_ct] = mu_ang\n",
    "    std_angles[side_ct] = std_ang"
   ]
  },
  {
   "cell_type": "code",
   "execution_count": 59,
   "metadata": {},
   "outputs": [],
   "source": [
    "# Sampling from distributions"
   ]
  },
  {
   "cell_type": "code",
   "execution_count": 60,
   "metadata": {},
   "outputs": [
    {
     "name": "stdout",
     "output_type": "stream",
     "text": [
      "[(0, 0), (-44, -23), (-20, -66), (-47, -107), (-92, -128), (-43, -120), (-60, -73), (-15, -52)]\n"
     ]
    }
   ],
   "source": [
    "sampled_points = [(0,0)]\n",
    "for i in range(len(eight_sided_polygons[0])-1):\n",
    "    side_leng = np.random.normal(mu_lengths[i],std_lengths[i])\n",
    "    side_angl = np.random.normal(mu_angles[i],std_angles[i])\n",
    "#     print('Side Length:',side_len)\n",
    "#     print('Side Angle:',side_angle)\n",
    "    curr_x,curr_y = sampled_points[-1]\n",
    "    next_x = curr_x + int(50*math.cos(side_angl))\n",
    "    next_y = curr_y + int(50*math.sin(side_angl))\n",
    "    sampled_points.append((next_x,next_y))\n",
    "print(sampled_points)"
   ]
  },
  {
   "cell_type": "code",
   "execution_count": 1286,
   "metadata": {},
   "outputs": [
    {
     "data": {
      "image/png": "[encoded data removed]",
      "text/plain": [
       "<matplotlib.figure.Figure at 0x1a24371c18>"
      ]
     },
     "metadata": {},
     "output_type": "display_data"
    }
   ],
   "source": [
    "poly = planar_polygon(sampled_points)\n",
    "plot_svg_big([sampled_points])"
   ]
  },
  {
   "cell_type": "code",
   "execution_count": 62,
   "metadata": {},
   "outputs": [
    {
     "data": {
      "image/png": "[encoded data removed]",
      "text/plain": [
       "<matplotlib.figure.Figure at 0x1a20fee5f8>"
      ]
     },
     "metadata": {},
     "output_type": "display_data"
    }
   ],
   "source": [
    "# Looks bad, so lets fit a convex hull to these points\n",
    "poly_hull = planar_polygon.convex_hull(sampled_points)\n",
    "# poly = Polygon(poly)\n",
    "plot_svg_big([poly_hull])\n",
    "# print(second_polygons[ID])"
   ]
  },
  {
   "cell_type": "markdown",
   "metadata": {},
   "source": [
    "# This simple approach did not work.\n",
    "\n",
    "## Before trying something more fancy, let's code a way to at least quantify the distance between two such polygons. One way is turning function."
   ]
  },
  {
   "cell_type": "code",
   "execution_count": 63,
   "metadata": {},
   "outputs": [],
   "source": [
    "# pol_2 = eight_sided_polygons[2]\n",
    "# pol_3 = eight_sided_polygons[3]"
   ]
  },
  {
   "cell_type": "code",
   "execution_count": 64,
   "metadata": {},
   "outputs": [],
   "source": [
    "# plot_svg([pol_3])"
   ]
  },
  {
   "cell_type": "code",
   "execution_count": 65,
   "metadata": {},
   "outputs": [],
   "source": [
    "def polygon_perimeter(polygon):\n",
    "    perimeter = 0\n",
    "    for i in range(len(polygon)):\n",
    "        curr_pt = polygon[i]\n",
    "        if i != len(polygon)-1:\n",
    "            next_pt = polygon[i+1]\n",
    "        else:\n",
    "            next_pt = polygon[0] # circle to original point\n",
    "        length = side_len(next_pt,curr_pt)\n",
    "        perimeter += length\n",
    "    return perimeter"
   ]
  },
  {
   "cell_type": "code",
   "execution_count": 93,
   "metadata": {},
   "outputs": [],
   "source": [
    "def piecewise(x, cum_lens,turnings):\n",
    "    return np.piecewise(x, [x <= cum_lens[0], cum_lens[0] <= x <= cum_lens[1],cum_lens[1]<= x <= cum_lens[2],cum_lens[2]<= x <= cum_lens[3],cum_lens[3] <= x <= cum_lens[4],cum_lens[4] <= x <= cum_lens[5], cum_lens[5]<= x <= cum_lens[6], cum_lens[6] <= x <= 1],turnings,[0,1])"
   ]
  },
  {
   "cell_type": "code",
   "execution_count": 94,
   "metadata": {},
   "outputs": [],
   "source": [
    "# def turning_function_debug(polygon):\n",
    "#     perimeter = polygon_perimeter(polygon)\n",
    "#     cum_angle = 0\n",
    "#     lens = []\n",
    "#     cum_angs = []\n",
    "#     cum_lens = []\n",
    "#     cum_length = 0\n",
    "#     for i in range(len(polygon)):\n",
    "#         curr_pt = polygon[i]\n",
    "#         if i == 0:\n",
    "#             first_point = curr_pt\n",
    "#         if i != len(polygon)-1:\n",
    "#             next_pt = polygon[i+1]\n",
    "#         else:\n",
    "#             next_pt = polygon[0] # circle to original point\n",
    "#         length = side_len(next_pt,curr_pt)\n",
    "#         normalized_length = length/float(perimeter)\n",
    "#         angle = side_angle(next_pt,curr_pt)\n",
    "#         cum_angle += angle\n",
    "#         cum_length += normalized_length\n",
    "#         cum_lens.append(cum_length)\n",
    "#         cum_angs.append(angle)\n",
    "    \n",
    "#     return cum_lens,cum_angs,first_point"
   ]
  },
  {
   "cell_type": "code",
   "execution_count": 95,
   "metadata": {},
   "outputs": [],
   "source": [
    "# def turning_function(polygon):\n",
    "#     perimeter = polygon_perimeter(polygon)\n",
    "#     cum_angle = 0\n",
    "#     lens = []\n",
    "#     cum_angs = []\n",
    "#     cum_lens = []\n",
    "#     cum_length = 0\n",
    "#     for i in range(len(polygon)):\n",
    "#         curr_pt = polygon[i]\n",
    "#         if i == 0:\n",
    "#             first_point = curr_pt\n",
    "#         if i != len(polygon)-1:\n",
    "#             next_pt = polygon[i+1]\n",
    "#         else:\n",
    "#             next_pt = polygon[0] # circle to original point\n",
    "#         length = side_len(next_pt,curr_pt)\n",
    "#         normalized_length = length/float(perimeter)\n",
    "#         angle = side_angle(next_pt,curr_pt)\n",
    "#         cum_angle += angle\n",
    "#         cum_length += normalized_length\n",
    "#         cum_lens.append(cum_length)\n",
    "#         cum_angs.append(angle)\n",
    "        \n",
    "    \n",
    "#     return partial(piecewise,cum_lens= cum_lens, cum_angs = cum_angs)"
   ]
  },
  {
   "cell_type": "code",
   "execution_count": 96,
   "metadata": {},
   "outputs": [],
   "source": [
    "# def side_angle(pt1,pt2):\n",
    "#     \"\"\" Returns the angle in radians between vectors 'v1' and 'v2'    \"\"\"\n",
    "#     angle = np.arctan2(pt2[1] - pt1[1], pt2[0] - pt1[0])\n",
    "#     angle = (angle + 2*math.pi) % 2*math.pi\n",
    "#     return angle"
   ]
  },
  {
   "cell_type": "code",
   "execution_count": 97,
   "metadata": {},
   "outputs": [],
   "source": [
    "def check_clockwise(polygon):\n",
    "    shoelace = 0\n",
    "    for i in range(len(polygon)):\n",
    "        curr_pt = polygon[i]\n",
    "        if i != len(polygon)-1:\n",
    "            next_pt = polygon[i+1]\n",
    "        else:\n",
    "            next_pt = polygon[0] # circle to original point\n",
    "        shoelace += (next_pt[0] - curr_pt[0])*(next_pt[1] + curr_pt[1])\n",
    "#         print(shoelace)\n",
    "    if shoelace > 0:\n",
    "        return True\n",
    "    else:\n",
    "        return False"
   ]
  },
  {
   "cell_type": "code",
   "execution_count": 98,
   "metadata": {},
   "outputs": [],
   "source": [
    "pol0 = eight_sided_polygons[0]\n",
    "pol1 = eight_sided_polygons[1]\n",
    "pol2 = eight_sided_polygons[2]\n",
    "pol7 = eight_sided_polygons[7]"
   ]
  },
  {
   "cell_type": "code",
   "execution_count": 99,
   "metadata": {},
   "outputs": [
    {
     "name": "stdout",
     "output_type": "stream",
     "text": [
      "[(38, 169), (77, 171), (79, 191), (120, 191), (122, 171), (160, 170), (160, 117), (39, 116)]\n",
      "True\n"
     ]
    },
    {
     "data": {
      "image/png": "[encoded data removed]",
      "text/plain": [
       "<matplotlib.figure.Figure at 0x1a20c49a58>"
      ]
     },
     "metadata": {},
     "output_type": "display_data"
    }
   ],
   "source": [
    "plot_svg([pol0])\n",
    "print(pol1)\n",
    "print(check_clockwise(pol1))"
   ]
  },
  {
   "cell_type": "code",
   "execution_count": 100,
   "metadata": {},
   "outputs": [
    {
     "name": "stdout",
     "output_type": "stream",
     "text": [
      "[(100, 187), (136, 151), (136, 141), (59, 64), (49, 64), (13, 100), (13, 110), (90, 187)]\n",
      "True\n"
     ]
    },
    {
     "data": {
      "image/png": "[encoded data removed]",
      "text/plain": [
       "<matplotlib.figure.Figure at 0x1a20bec2b0>"
      ]
     },
     "metadata": {},
     "output_type": "display_data"
    }
   ],
   "source": [
    "plot_svg([pol7])\n",
    "print(pol0)\n",
    "print(check_clockwise(pol0))"
   ]
  },
  {
   "cell_type": "code",
   "execution_count": 106,
   "metadata": {},
   "outputs": [],
   "source": [
    "def poly_flip(polygon):\n",
    "    new_polygon = [polygon[0]]\n",
    "    new_polygon.extend(polygon[::-1][:-1])\n",
    "    return new_polygon"
   ]
  },
  {
   "cell_type": "code",
   "execution_count": 107,
   "metadata": {},
   "outputs": [],
   "source": [
    "def angle_3_vertices(pt1,pt2,pt3):\n",
    "    A = np.array(pt2)-np.array(pt1)\n",
    "    B = np.array(pt2)-np.array(pt3)\n",
    "    an = np.dot(A,B)/(np.linalg.norm(A)*np.linalg.norm(B))\n",
    "    angle = np.arccos(an)*180/np.pi\n",
    "    return angle"
   ]
  },
  {
   "cell_type": "code",
   "execution_count": 108,
   "metadata": {},
   "outputs": [],
   "source": [
    "# Checking if the move was left is as easy as making a polygon of these points and checking if it's anti-clockwise or not.\n",
    "# If clockwise: move was right, if anticlockwise: move was left.\n",
    "def check_if_left_move(pt1,pt2,pt3):\n",
    "    if check_clockwise([pt1,pt2,pt3]):\n",
    "        return False\n",
    "    else:\n",
    "        return True"
   ]
  },
  {
   "cell_type": "code",
   "execution_count": 169,
   "metadata": {},
   "outputs": [],
   "source": [
    "def turning_function_debug(polygon,RETURN=False):\n",
    "    perimeter = polygon_perimeter(polygon)\n",
    "    cum_lens = []\n",
    "\n",
    "    if check_clockwise(polygon):\n",
    "        polygon = poly_flip(polygon)\n",
    "    poly_new = polygon + polygon[:2]\n",
    "    \n",
    "    turnings = []\n",
    "    for i in range(len(poly_new)-2):\n",
    "        pt1 = poly_new[i]\n",
    "        pt2 = poly_new[i+1]\n",
    "        pt3 = poly_new[i+2]\n",
    "        \n",
    "        # Lengths\n",
    "        length_of_side = side_len(pt1,pt2)\n",
    "        normalized_length = length_of_side/float(perimeter)\n",
    "        cum_lens.append(normalized_length)\n",
    "        \n",
    "        internal_angle = angle_3_vertices(pt1,pt2,pt3)\n",
    "        angle_of_importance = 180 - internal_angle\n",
    "        if i == 0:\n",
    "            start_angle = np.arctan2(pt2[1] - pt1[1], pt2[0] - pt1[0]) * 180/np.pi\n",
    "            if start_angle < 0:\n",
    "                start_angle += 360\n",
    "            turning_val = start_angle\n",
    "            turnings.append(turning_val)\n",
    "            if RETURN == False:\n",
    "                print(pt1,pt2,pt3,turning_val)\n",
    "        # if movement was left: increase angle by external angle\n",
    "        if check_if_left_move(pt1,pt2,pt3):\n",
    "            turning_val += angle_of_importance\n",
    "            turnings.append(turning_val)\n",
    "            if RETURN == False:\n",
    "                print(pt1,pt2,pt3,turning_val)\n",
    "        else:\n",
    "            turning_val -= angle_of_importance\n",
    "            turnings.append(turning_val)\n",
    "            if RETURN == False:\n",
    "                print(pt1,pt2,pt3,turning_val)\n",
    "    if RETURN == True:\n",
    "        return cum_lens,turnings"
   ]
  },
  {
   "cell_type": "code",
   "execution_count": 170,
   "metadata": {},
   "outputs": [],
   "source": [
    "def turning_function(polygon):\n",
    "    perimeter = polygon_perimeter(polygon)\n",
    "    cum_lens = []\n",
    "    \n",
    "    if check_clockwise(polygon):\n",
    "        polygon = poly_flip(polygon)\n",
    "    poly_new = polygon + polygon[:2]\n",
    "    \n",
    "    turnings = []\n",
    "    for i in range(len(poly_new)-2):\n",
    "        pt1 = poly_new[i]\n",
    "        pt2 = poly_new[i+1]\n",
    "        pt3 = poly_new[i+2]\n",
    "        \n",
    "        \n",
    "        # Lengths\n",
    "        length_of_side = side_len(pt1,pt2)\n",
    "        normalized_length = length_of_side/float(perimeter)\n",
    "        cum_lens.append(normalized_length)\n",
    "        \n",
    "        \n",
    "        # Angles\n",
    "        internal_angle = angle_3_vertices(pt1,pt2,pt3)\n",
    "        angle_of_importance = 180 - internal_angle\n",
    "        if i == 0:\n",
    "            start_angle = np.arctan2(pt2[1] - pt1[1], pt2[0] - pt1[0]) * 180/np.pi\n",
    "            if start_angle < 0:\n",
    "                start_angle += 360\n",
    "            turning_val = start_angle\n",
    "            turnings.append(turning_val)\n",
    "        # if movement was left: increase angle by external angle\n",
    "        if check_if_left_move(pt1,pt2,pt3):\n",
    "            turning_val += angle_of_importance\n",
    "            turnings.append(turning_val)\n",
    "        else:\n",
    "            turning_val -= angle_of_importance\n",
    "            turnings.append(turning_val)\n",
    "    \n",
    "    return partial(piecewise,cum_lens = cum_lens, turnings = turnings)"
   ]
  },
  {
   "cell_type": "code",
   "execution_count": 171,
   "metadata": {},
   "outputs": [
    {
     "name": "stdout",
     "output_type": "stream",
     "text": [
      "(100, 187) (90, 187) (13, 110) 180.0\n",
      "(100, 187) (90, 187) (13, 110) 225.0\n",
      "(90, 187) (13, 110) (13, 100) 270.0\n",
      "(13, 110) (13, 100) (49, 64) 315.0\n",
      "(13, 100) (49, 64) (59, 64) 360.0\n",
      "(49, 64) (59, 64) (136, 141) 405.0\n",
      "(59, 64) (136, 141) (136, 151) 450.0\n",
      "(136, 141) (136, 151) (100, 187) 495.0\n",
      "(136, 151) (100, 187) (90, 187) 540.0\n"
     ]
    }
   ],
   "source": [
    "turning_function_debug(pol0)"
   ]
  },
  {
   "cell_type": "code",
   "execution_count": 172,
   "metadata": {},
   "outputs": [
    {
     "data": {
      "text/plain": [
       "([0.02780772785188952,\n",
       "  0.302810707175301,\n",
       "  0.02780772785188952,\n",
       "  0.14157383712091998,\n",
       "  0.02780772785188952,\n",
       "  0.302810707175301,\n",
       "  0.02780772785188952,\n",
       "  0.14157383712091998],\n",
       " [180.0, 225.0, 270.0, 315.0, 360.0, 405.0, 450.0, 495.0, 540.0])"
      ]
     },
     "execution_count": 172,
     "metadata": {},
     "output_type": "execute_result"
    }
   ],
   "source": [
    "turning_function_debug(pol0,True)"
   ]
  },
  {
   "cell_type": "code",
   "execution_count": 135,
   "metadata": {},
   "outputs": [
    {
     "data": {
      "image/png": "[encoded data removed]",
      "text/plain": [
       "<matplotlib.figure.Figure at 0x1a2344f278>"
      ]
     },
     "metadata": {},
     "output_type": "display_data"
    }
   ],
   "source": [
    "plot_svg([pol0])"
   ]
  },
  {
   "cell_type": "code",
   "execution_count": 136,
   "metadata": {},
   "outputs": [],
   "source": [
    "# def polygon_distance(pol_1,pol_2):\n",
    "#     integral_1 = quad(turning_function(pol_1),0,1)[0]\n",
    "#     integral_2 = quad(turning_function(pol_2),0,1)[0]\n",
    "#     integral_3 = quad(turning_function(poly_flip(pol_2)),0,1)[0] # check both orientations of polygons\n",
    "#     return min(abs(integral_1 - integral_2),abs(integral_1-integral_3))\n",
    "\n",
    "# def polygon_distance(pol_1,pol_2):\n",
    "#     integral_1 = quad(turning_function(pol_1),0,1)[0]\n",
    "#     integral_2 = quad(turning_function(pol_2),0,1)[0]\n",
    "#     return abs(integral_1 - integral_2)"
   ]
  },
  {
   "cell_type": "code",
   "execution_count": 137,
   "metadata": {},
   "outputs": [],
   "source": [
    "# polygon_distance(eight_sided_polygons[7],eight_sided_polygons[0])"
   ]
  },
  {
   "cell_type": "code",
   "execution_count": 138,
   "metadata": {},
   "outputs": [],
   "source": [
    "# for i in range(len(eight_sided_polygons)):\n",
    "#     for j in range(i):\n",
    "#         pol_1 = eight_sided_polygons[i]\n",
    "#         pol_2 = eight_sided_polygons[j]       \n",
    "#         dist = polygon_distance(pol_1,pol_2)\n",
    "#         if dist < 0.5:\n",
    "#             print(\"%s,%s are a pair\"%(i,j))\n",
    "#             plot_svg_big([pol_1])\n",
    "#             plot_svg_big([pol_2])"
   ]
  },
  {
   "cell_type": "code",
   "execution_count": 139,
   "metadata": {},
   "outputs": [],
   "source": [
    "# def turning_distance_simple(pol1,pol2):\n",
    "#     turning_func1 = turning_function(pol1)\n",
    "#     turning_func2 = turning_function(pol2)\n",
    "#     turning_func2_flip = turning_function(poly_flip(pol2))\n",
    "#     integral_1 = quad(turning_func1,0,1)[0]\n",
    "#     integral_2 = quad(turning_func2,0,1)[0]\n",
    "#     integral_2_flip = quad(turning_func2_flip,0,1)[0]\n",
    "    \n",
    "#     alphas = [abs(integral_1 - integral_2),abs(integral_1-integral_2_flip)]\n",
    "    \n",
    "#     alpha = min(alphas)\n",
    "#     def distance_function(x):\n",
    "#         return (turning_func1(x) - turning_func2(x) + alpha)**2\n",
    "#     def distance_function_flipped(x):\n",
    "#         return (turning_func1(x) - turning_func2_flip(x) + alpha)**2\n",
    "    \n",
    "#     dist = quad(distance_function,0,1)[0]**0.5\n",
    "#     dist_flip = quad(distance_function_flipped,0,1)[0]**0.5\n",
    "    \n",
    "#     if abs(dist) < abs(dist_flip):\n",
    "#         return pol1,pol2,abs(dist),alphas\n",
    "#     else:\n",
    "#         return pol1,poly_flip(pol2),abs(dist_flip),alphas"
   ]
  },
  {
   "cell_type": "code",
   "execution_count": 140,
   "metadata": {},
   "outputs": [],
   "source": [
    "def turning_distance_L_p(POL_1,POL_2,p):\n",
    "    turning_func1 = turning_function(POL_1)\n",
    "    turning_func2 = turning_function(POL_2)\n",
    "    \n",
    "    def L_p(x):\n",
    "        return (turning_func1(x) - turning_func2(x))**p\n",
    "    \n",
    "    dist = quad(L_p,0,1)[0]**(1/float(p))\n",
    "    return abs(dist)"
   ]
  },
  {
   "cell_type": "code",
   "execution_count": 141,
   "metadata": {},
   "outputs": [
    {
     "data": {
      "text/plain": [
       "2.0688741129068036"
      ]
     },
     "execution_count": 141,
     "metadata": {},
     "output_type": "execute_result"
    }
   ],
   "source": [
    "turning_distance_L_p(pol0,pol7,1)"
   ]
  },
  {
   "cell_type": "code",
   "execution_count": 156,
   "metadata": {},
   "outputs": [],
   "source": [
    "sided_polygon_22 = retained_polygon_dict[22]"
   ]
  },
  {
   "cell_type": "code",
   "execution_count": 159,
   "metadata": {},
   "outputs": [
    {
     "name": "stdout",
     "output_type": "stream",
     "text": [
      "2 1\n",
      "3 1\n",
      "3 2\n"
     ]
    }
   ],
   "source": [
    "POLYGON_THRESH = 4\n",
    "for i in range(len(eight_sided_polygons)):\n",
    "    for j in range(i):\n",
    "        polygon_i = eight_sided_polygons[i]\n",
    "        polygon_j = eight_sided_polygons[j]\n",
    "        if turning_distance_L_p(polygon_i,polygon_j,2) < POLYGON_THRESH:\n",
    "            print(i,j)"
   ]
  },
  {
   "cell_type": "code",
   "execution_count": 155,
   "metadata": {},
   "outputs": [
    {
     "data": {
      "image/png": "[encoded data removed]",
      "text/plain": [
       "<matplotlib.figure.Figure at 0x1a20868b70>"
      ]
     },
     "metadata": {},
     "output_type": "display_data"
    }
   ],
   "source": [
    "plot_svg([eight_sided_polygons[3]])"
   ]
  },
  {
   "cell_type": "code",
   "execution_count": 179,
   "metadata": {},
   "outputs": [],
   "source": [
    "pair = [1,2,3]"
   ]
  },
  {
   "cell_type": "code",
   "execution_count": 180,
   "metadata": {},
   "outputs": [
    {
     "name": "stdout",
     "output_type": "stream",
     "text": [
      "[0.13788023 0.31426406 0.13785628 0.09767099 0.0516443  0.10870157\n",
      " 0.0516443  0.10033827]\n",
      "[271.06782502 360.46845753 450.         538.49256424 455.71059314\n",
      " 540.         624.28940686 542.93567345 631.06782502]\n"
     ]
    }
   ],
   "source": [
    "lengths_average = np.zeros(8)\n",
    "angles_average = np.zeros(9)\n",
    "\n",
    "for pol_ct in pair:\n",
    "    turning_lengths, turning_angles = turning_function_debug(eight_sided_polygons[pol_ct],True)\n",
    "    lengths_average += np.array(turning_lengths)\n",
    "    angles_average += np.array(turning_angles)\n",
    "\n",
    "print(lengths_average/len(pair))\n",
    "print(angles_average/len(pair))"
   ]
  },
  {
   "cell_type": "code",
   "execution_count": null,
   "metadata": {},
   "outputs": [],
   "source": [
    "def turning_function_to_polygon(turn_lengths,turn_angles):\n",
    "    "
   ]
  },
  {
   "cell_type": "code",
   "execution_count": 176,
   "metadata": {},
   "outputs": [
    {
     "data": {
      "text/plain": [
       "9"
      ]
     },
     "execution_count": 176,
     "metadata": {},
     "output_type": "execute_result"
    }
   ],
   "source": [
    "len(turning_angles)"
   ]
  },
  {
   "cell_type": "code",
   "execution_count": null,
   "metadata": {},
   "outputs": [],
   "source": [
    "turning_function_average = turnings"
   ]
  },
  {
   "cell_type": "markdown",
   "metadata": {},
   "source": [
    "## Extra code"
   ]
  },
  {
   "cell_type": "code",
   "execution_count": 326,
   "metadata": {},
   "outputs": [],
   "source": [
    "# #Plot the data and PDF of fitted normal dist\n",
    "# data = len1s\n",
    "# plt.hist(data, bins=25, normed=True, alpha=0.6, color='g')\n",
    "# xmin, xmax = plt.xlim()\n",
    "# x = np.linspace(xmin, xmax, 100)\n",
    "# p = norm.pdf(x, mu, std)\n",
    "# plt.plot(x, p, 'k', linewidth=2)\n",
    "# title = \"Fit results: mu = %.2f,  std = %.2f\" % (mu, std)\n",
    "# plt.title(title)\n",
    "\n",
    "# plt.show()"
   ]
  },
  {
   "cell_type": "code",
   "execution_count": null,
   "metadata": {},
   "outputs": [],
   "source": []
  }
 ],
 "metadata": {
  "kernelspec": {
   "display_name": "Python 3",
   "language": "python",
   "name": "python3"
  },
  "language_info": {
   "codemirror_mode": {
    "name": "ipython",
    "version": 3
   },
   "file_extension": ".py",
   "mimetype": "text/x-python",
   "name": "python",
   "nbconvert_exporter": "python",
   "pygments_lexer": "ipython3",
   "version": "3.6.4"
  }
 },
 "nbformat": 4,
 "nbformat_minor": 2
}
